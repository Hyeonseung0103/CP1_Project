{
  "cells": [
    {
      "cell_type": "markdown",
      "metadata": {},
      "source": [
        "# 데이터 수집(네이버 기사, 댓글 크롤링)"
      ]
    },
    {
      "cell_type": "code",
      "execution_count": null,
      "metadata": {
        "id": "6-vZsc0Lzn6f"
      },
      "outputs": [],
      "source": [
        "# 필요한 모듈 설치\n",
        "!pip install nest-asyncio\n",
        "!pip install --upgrade lxml\n",
        "!pip install --upgrade pymongo\n",
        "from IPython.display import clear_output\n",
        "clear_output()"
      ]
    },
    {
      "cell_type": "code",
      "execution_count": 1,
      "metadata": {},
      "outputs": [],
      "source": [
        "from IPython.display import clear_output\n",
        "clear_output()"
      ]
    },
    {
      "cell_type": "code",
      "execution_count": 2,
      "metadata": {
        "colab": {
          "base_uri": "https://localhost:8080/"
        },
        "id": "q2kbaCNAzkac",
        "outputId": "8327a17e-64f1-4697-c408-a08bb8a5fcf5"
      },
      "outputs": [],
      "source": [
        "# 라이브러리 불러오기\n",
        "import requests\n",
        "from bs4 import BeautifulSoup\n",
        "from datetime import datetime, timedelta\n",
        "import asyncio\n",
        "import json\n",
        "import nest_asyncio\n",
        "from pymongo import MongoClient\n",
        "nest_asyncio.apply()"
      ]
    },
    {
      "cell_type": "code",
      "execution_count": 3,
      "metadata": {
        "id": "39A4hPZryEA2"
      },
      "outputs": [],
      "source": [
        "# 함수 정의\n",
        "\n",
        "def get_comments(refer_url, comment_url) : # 댓글 목록을 json 형태로 받아오는 함수\n",
        "    comments = []\n",
        "    next = None\n",
        "    # 처음엔 댓글 개수를 모르므로 충분히 큰 수를 넣어 줌\n",
        "    comment_count = 10e6\n",
        "    headers = {\n",
        "        'User-Agent' : '.......',\n",
        "        'referer': refer_url\n",
        "    }\n",
        "\n",
        "    # 수집한 댓글 수가 첫번째에 수집한 총 댓글 수 보다 많다면 반복을 종료합니다.\n",
        "    while len(comments) < comment_count :\n",
        "        comment_url_next = comment_url + '&moreParam.next=' + next if next else comment_url\n",
        "        res = requests.get(comment_url_next, headers=headers)\n",
        "        dic = json.loads(res.text[res.text.index('(')+1:-2])\n",
        "        comments.extend(list(map(lambda x : {\n",
        "            'id': x['commentNo'],\n",
        "            'time': x['regTime'], \n",
        "            'uid': x['idNo'], \n",
        "            'text': x['contents'], \n",
        "            'sympathy': x['sympathyCount'], \n",
        "            'antipathy': x['antipathyCount'] \n",
        "            }, dic['result']['commentList'])))\n",
        "        comment_count = dic['result']['count']['comment']\n",
        "        next = dic['result']['morePage']['next'] if comment_count else None\n",
        "    # 필터로 삭제된 댓글을 걸러줍니다\n",
        "    comments=list(filter(lambda x: len(x['text']), comments))\n",
        "    return comments\n",
        "\n"
      ]
    },
    {
      "cell_type": "code",
      "execution_count": 4,
      "metadata": {
        "id": "cl0trbKGuoqa"
      },
      "outputs": [],
      "source": [
        "def get_article(offer, article_url) : # 뉴스 기사를 html 형태로 받아오는 함수\n",
        "    article = {}\n",
        "    headers = {'User-Agent' : '........'}\n",
        "    res = requests.get(article_url, headers=headers)\n",
        "    if res.url != article_url :\n",
        "        return None\n",
        "    soup = BeautifulSoup(res.text, 'lxml')\n",
        "    article['offer'] = offer\n",
        "    article['url'] = article_url\n",
        "    article['title'] = soup.select_one('#ct > div.media_end_head.go_trans > div.media_end_head_title > h2').text\n",
        "    article['text'] = soup.select_one('#dic_area').text\n",
        "    article['date'] = soup.select_one('#ct > div.media_end_head.go_trans > div.media_end_head_info.nv_notrans > div.media_end_head_info_datestamp > div > span.media_end_head_info_datestamp_time').attrs['data-date-time']\n",
        "    return article\n",
        "\n",
        "\n"
      ]
    },
    {
      "cell_type": "code",
      "execution_count": 5,
      "metadata": {
        "id": "oB9vJariuqiy"
      },
      "outputs": [],
      "source": [
        "async def main(filename, start, end) : # 위 함수를 이용해 데이터를 받아오고 저장하는 함수\n",
        "    def get_data(offer, date, oid, aid, count, max) :\n",
        "        try :\n",
        "            # article_url: 원본 기사 주소\n",
        "            # refer_url: 댓글 보기를 누르면 나오는 댓글 페이지 주소\n",
        "            # comment_url: 네트워크 탭에서 확인 가능한 동적으로 생성되는 주소\n",
        "            article_url = f'.....'\n",
        "            refer_url = f'.....'\n",
        "            comment_url = f'.....'\n",
        "            article = get_article(offer, article_url)\n",
        "            # article이 None이 반환되는 경우는 리다이렉트가 발생하는 경우\n",
        "            if article is None : return None\n",
        "            comments = get_comments(refer_url, comment_url)\n",
        "            # 댓글 수가 0개인 기사를 어떻게 할지 추후에 결정해야 함\n",
        "            article['comments'] = comments\n",
        "            print(date, str(count) + '/' + str(max), '댓글 개수:' + str(len(comments)))\n",
        "            return article\n",
        "        except :\n",
        "            # 왜 오류가 뜨는지는 모르겠으나, 다시 실행하면 되는걸로 봐서 한번에 너무 많은 요청을 하는게 문제인 듯\n",
        "            # 로직을 안전하게 고치기 귀찮으니 오류가 뜬 url을 로그에 남겨두고 추후에 추가하자.\n",
        "            errors.append([date, oid, aid])\n",
        "            print(date, article_url, '오류 발생')\n",
        "            return None\n",
        "\n",
        "    # 매개변수로 받은 시작, 종료일자로 기간 배열을 만들어줌\n",
        "    start = datetime.strptime(start, \"%Y%m%d\")\n",
        "    end = datetime.strptime(end, \"%Y%m%d\")\n",
        "    dates = [(start + timedelta(days=d)).strftime('%Y%m%d') for d in range((end-start).days+1)]\n",
        "\n",
        "    # 파일 불러오기\n",
        "    with open(filename, 'r', encoding = 'utf-8') as f :\n",
        "        data = json.load(f)\n",
        "\n",
        "    # db 연결\n",
        "    client = MongoClient(\n",
        "        host='.....', \n",
        "        port=....,\n",
        "        username='....',\n",
        "        password='....',\n",
        "        authSource='..')\n",
        "    db = client['...']\n",
        "    col = db['....']\n",
        "\n",
        "    loop = asyncio.get_event_loop()\n",
        "    for date in dates :\n",
        "        \n",
        "        # 기존 일자의 기사들 삭제\n",
        "        # d = datetime.strptime(date, \"%Y%m%d\")\n",
        "        # d = datetime.strftime(d, \"%Y-%m-%d\")\n",
        "        # col.delete_many({'date': {\"$regex\" : d}})\n",
        "\n",
        "        # 카운트 변수를 0으로 초기화\n",
        "        count = 0\n",
        "        max = len(data[date])\n",
        "        futures = []\n",
        "        errors = []\n",
        "        for offer, oid, aid in data[date] :\n",
        "            count += 1\n",
        "            futures.append(loop.run_in_executor(None, get_data, offer, date, oid, aid, count, max))\n",
        "            if count % 100 == 0 or count == len(data[date]) :\n",
        "                # 백번째마다 플러시\n",
        "                articles = await asyncio.gather(*futures)\n",
        "                articles = list(filter(lambda x : x is not None, articles))\n",
        "                # 디비에 데이터 전송\n",
        "                col.insert_many(articles)\n",
        "                # 오류 뜬 기사들은 로그 파일에 넣기\n",
        "                with open('log.txt', 'a') as f :\n",
        "                    for i in errors :\n",
        "                        f.write(' '.join(i) + '\\n')        \n",
        "                clear_output(wait=True)\n",
        "                print(len(articles), '완료', len(errors), '에러', str(count) + '/' + str(len(data[date])))\n",
        "                futures = []\n",
        "                errors = []"
      ]
    },
    {
      "cell_type": "code",
      "execution_count": 6,
      "metadata": {
        "colab": {
          "base_uri": "https://localhost:8080/",
          "height": 760
        },
        "id": "ctoPMtXsR2SB",
        "outputId": "a599031f-e1ab-4efc-f227-2e3376cc719e"
      },
      "outputs": [
        {
          "name": "stdout",
          "output_type": "stream",
          "text": [
            "43 완료 0 에러 2343/2343\n",
            "Wall time: 34min 16s\n"
          ]
        }
      ],
      "source": [
        "%%time\n",
        " \n",
        "# main(파일 이름, 시작 날짜, 종료 날짜)\n",
        "asyncio.run(main('2021.json', '20210329', '20210331'))\n",
        "# 도중에 멈추거나 해서 중단한 경우 밑 출력창을 보고 중지된 날짜를 다시 시작 날\n",
        "# \n",
        "# \n",
        "# 짜에 기입하여 실행해주면 됨."
      ]
    }
  ],
  "metadata": {
    "colab": {
      "collapsed_sections": [],
      "name": "comment_request.ipynb",
      "provenance": []
    },
    "kernelspec": {
      "display_name": "Python 3.8.5 32-bit",
      "language": "python",
      "name": "python3"
    },
    "language_info": {
      "codemirror_mode": {
        "name": "ipython",
        "version": 3
      },
      "file_extension": ".py",
      "mimetype": "text/x-python",
      "name": "python",
      "nbconvert_exporter": "python",
      "pygments_lexer": "ipython3",
      "version": "3.8.5"
    },
    "vscode": {
      "interpreter": {
        "hash": "8c9a6d0b832d4cfad6488ccdb1205552965f621d05815b5a62faeee9a758575a"
      }
    }
  },
  "nbformat": 4,
  "nbformat_minor": 0
}
