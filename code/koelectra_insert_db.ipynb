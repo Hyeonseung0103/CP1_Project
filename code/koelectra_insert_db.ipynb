{
  "cells": [
    {
      "cell_type": "markdown",
      "metadata": {},
      "source": [
        "# 수집한 데이터를 감성분석하여 결과를 DB에 추가 저장\n",
        "Mongo DB에 저장되어 있는 네이버 뉴스 댓글 데이터를 꺼내와서 KoELECTRA 모델로 감성분석하고, 모델이 감성분석한 결과를 Mongo DB에 필드를 추가하여 새롭게 저장한다.\n"
      ]
    },
    {
      "cell_type": "code",
      "execution_count": null,
      "metadata": {
        "id": "hc7P9wzHv0LE",
        "vscode": {
          "languageId": "python"
        }
      },
      "outputs": [],
      "source": [
        "!pip install transformers"
      ]
    },
    {
      "cell_type": "code",
      "execution_count": 1,
      "metadata": {
        "id": "gVACnsGHOGHr",
        "vscode": {
          "languageId": "python"
        }
      },
      "outputs": [],
      "source": [
        "import torch\n",
        "from torch.nn import functional as F\n",
        "from torch.utils.data import DataLoader, Dataset\n",
        "from transformers import AutoTokenizer, ElectraForSequenceClassification, AdamW\n",
        "from tqdm.notebook import tqdm"
      ]
    },
    {
      "cell_type": "code",
      "execution_count": 2,
      "metadata": {
        "id": "6uAGcTfvOIm_",
        "vscode": {
          "languageId": "python"
        }
      },
      "outputs": [],
      "source": [
        "# GPU 사용\n",
        "device = torch.device(\"cuda\")"
      ]
    },
    {
      "cell_type": "code",
      "execution_count": null,
      "metadata": {
        "colab": {
          "base_uri": "https://localhost:8080/"
        },
        "id": "qLnKMRptOOj2",
        "outputId": "829aefbb-a068-49d8-98a5-8dfa40a56751",
        "vscode": {
          "languageId": "python"
        }
      },
      "outputs": [],
      "source": [
        "# 사전학습 모델 불러오기\n",
        "model = ElectraForSequenceClassification.from_pretrained(\"monologg/koelectra-small-v3-discriminator\").to(device)\n",
        "tokenizer = AutoTokenizer.from_pretrained(\"monologg/koelectra-small-v2-discriminator\")"
      ]
    },
    {
      "cell_type": "code",
      "execution_count": 4,
      "metadata": {
        "colab": {
          "base_uri": "https://localhost:8080/"
        },
        "id": "vRiNVtqis9Rx",
        "outputId": "ae65801c-18eb-4d7e-9edb-3dbaaa2a5e3f",
        "vscode": {
          "languageId": "python"
        }
      },
      "outputs": [
        {
          "name": "stdout",
          "output_type": "stream",
          "text": [
            "Mounted at /content/drive\n"
          ]
        }
      ],
      "source": [
        "from google.colab import drive\n",
        "drive.mount('/content/drive')"
      ]
    },
    {
      "cell_type": "code",
      "execution_count": 4,
      "metadata": {
        "colab": {
          "base_uri": "https://localhost:8080/"
        },
        "id": "OVZhvX5Z7dMA",
        "outputId": "6f20aad3-fdba-4727-c240-b32bf6523487",
        "vscode": {
          "languageId": "python"
        }
      },
      "outputs": [
        {
          "data": {
            "text/plain": [
              "<All keys matched successfully>"
            ]
          },
          "execution_count": 4,
          "metadata": {},
          "output_type": "execute_result"
        }
      ],
      "source": [
        "path = '.....'\n",
        "# 파인튜닝된 모델 불러오기\n",
        "model.load_state_dict(torch.load(f'{path}model(nsmc_aihub6).pt'))"
      ]
    },
    {
      "cell_type": "code",
      "execution_count": 5,
      "metadata": {
        "id": "rXveZ8vi2iYA",
        "vscode": {
          "languageId": "python"
        }
      },
      "outputs": [],
      "source": [
        "# 감성분석 결과를 리턴해주는 함수\n",
        "def predict(text):\n",
        "    encoded_review = tokenizer.encode_plus(\n",
        "        text,\n",
        "        return_tensors='pt',\n",
        "        truncation=True,\n",
        "        max_length=128,\n",
        "        padding=True,\n",
        "        add_special_tokens=True\n",
        "    )\n",
        "    input_ids = encoded_review['input_ids'].to(device)\n",
        "    attention_mask = encoded_review['attention_mask'].to(device)\n",
        "    output = model(input_ids, attention_mask)\n",
        "    _, prediction = torch.max(output[0], dim=1)\n",
        "\n",
        "    if str(prediction) == \"tensor([1], device='cuda:0')\":\n",
        "        return '긍정'\n",
        "    else:\n",
        "        return '부정'"
      ]
    },
    {
      "cell_type": "code",
      "execution_count": 6,
      "metadata": {
        "id": "bum-m6DouAwm",
        "vscode": {
          "languageId": "python"
        }
      },
      "outputs": [],
      "source": [
        "import requests\n",
        "from pymongo import MongoClient\n",
        "import json\n",
        "from tqdm import tqdm\n",
        "from pymongo.errors import BulkWriteError\n",
        "from datetime import datetime, timedelta, timezone\n",
        "\n",
        "client = MongoClient(\n",
        "    host='....', \n",
        "    port=....,\n",
        "    username='....',\n",
        "    password='....',\n",
        "    authSource='....')\n",
        "db = client['....']"
      ]
    },
    {
      "cell_type": "code",
      "execution_count": 8,
      "metadata": {
        "id": "KK8ezOGmywyJ",
        "vscode": {
          "languageId": "python"
        }
      },
      "outputs": [],
      "source": [
        "# Mongo DB에서 원하는 날짜 범위의 데이터만 추출하여 가져온다.\n",
        "naver_list = list(db['....'].find({'date': {\n",
        "    '$gte': datetime.strptime('2020-02-01T00:00:00+0900', '%Y-%m-%dT%H:%M:%S%z'),\n",
        "    '$lt': datetime.strptime('2020-03-01T00:00:00+0900', '%Y-%m-%dT%H:%M:%S%z')\n",
        "    }}, batch_size=1000))"
      ]
    },
    {
      "cell_type": "code",
      "execution_count": 9,
      "metadata": {
        "colab": {
          "base_uri": "https://localhost:8080/"
        },
        "id": "upKCuMTDy6zn",
        "outputId": "8a714c43-9f5e-4960-8d99-1fdb3b521207",
        "vscode": {
          "languageId": "python"
        }
      },
      "outputs": [
        {
          "data": {
            "text/plain": [
              "46808"
            ]
          },
          "execution_count": 9,
          "metadata": {},
          "output_type": "execute_result"
        }
      ],
      "source": [
        "len(naver_list)"
      ]
    },
    {
      "cell_type": "code",
      "execution_count": null,
      "metadata": {
        "id": "RGgqxBWX0gim",
        "vscode": {
          "languageId": "python"
        }
      },
      "outputs": [],
      "source": [
        "naver_list[0]"
      ]
    },
    {
      "cell_type": "code",
      "execution_count": null,
      "metadata": {
        "colab": {
          "base_uri": "https://localhost:8080/"
        },
        "id": "Q2dMUAW7uJf-",
        "outputId": "9dc69355-f90a-4e21-820b-f14d9aec6979",
        "vscode": {
          "languageId": "python"
        }
      },
      "outputs": [],
      "source": [
        "# 100개의 기사의 댓글데이터가 수집 될 때마다 db에 넣는다.\n",
        "# 하나의 기사마다 일일이 업데이트 시키는 것보다 100개의 기사를 한번에 처리하는것이 더 빠르다.\n",
        "# 기사 제목과 댓글을 감성분석하고 그 결과를 Mongo DB에 다시 저장하는 코드.\n",
        "cnt = 0\n",
        "arr = []\n",
        "for i in tqdm(naver_list):\n",
        "    cnt += 1\n",
        "    # i['title'] 감성분석 코드\n",
        "    i['sentiment_result'] = predict(i['title'])\n",
        "\n",
        "    for comment in i['comments'] :\n",
        "        # comment['text'] 감성분석 코드\n",
        "        comment['sentiment_result'] = predict(comment['text'])\n",
        "\n",
        "    arr.append(i)\n",
        "\n",
        "    if cnt % 100 == 0 :\n",
        "        print(cnt)\n",
        "        try :\n",
        "            db['.....'].insert_many(arr, ordered=False)\n",
        "        except :\n",
        "            pass\n",
        "        arr = []\n",
        "if arr :\n",
        "    try :\n",
        "        db['.....'].insert_many(arr,  ordered=False)\n",
        "    except  :\n",
        "        pass"
      ]
    },
    {
      "cell_type": "code",
      "execution_count": null,
      "metadata": {
        "colab": {
          "base_uri": "https://localhost:8080/",
          "height": 1000
        },
        "id": "lLsqKNoAwX_s",
        "outputId": "7901bdd1-8d05-4992-816c-8e3a88529a7b",
        "vscode": {
          "languageId": "python"
        }
      },
      "outputs": [
        {
          "data": {
            "text/plain": [
              "[{'_id': ObjectId('62b7de24d078569328d908e5'),\n",
              "  'comments': [],\n",
              "  'date': datetime.datetime(2022, 4, 1, 14, 58, 39),\n",
              "  'offer': '뉴시스',\n",
              "  'sentiment_result': '긍정',\n",
              "  'text': '\\n기사내용 요약\"北 탄도미사일, 역내·세계 안보 환경에 명백한 위협\"\\n\\n\\n\\n[서울=뉴시스] 북한 조선중앙TV가 북한이 지난 24일 김정은 북한 조선노동당 총비서 겸 국무위원장의 명령으로 신형 대륙간탄도미사일(ICBM) 화성 17형을 시험 발사했다고 25일 보도했다. (사진=조선중앙TV 캡처) 2022.03.25. photo@newsis.com *재판매 및 DB 금지[워싱턴=뉴시스]김난영 특파원 = 미국 재무부가 북한의 대량파괴무기(WMD)와 탄도미사일 프로그램에 연루된 5개 단체에 추가 제재를 가했다.재무부는 1일(현지시간) 해외자산통제실(OFAC)을 통해 유엔 안전보장이사회 결의안을 위반해 북한의 WMD 및 탄도미사일 프로그램 개발을 지원한 5개 단체를 제재하기로 했다고 밝혔다.재무부는 자료에서 \"북한은 지난 2월26일과 3월4일에 두 번의 탄도미사일 시험 발사를 했다\"라고 밝혔다. 이는 미국이 대륙간탄도미사일(ICBM) 실험으로 규정한 한국 시간 기준 2월27일·3월5일 시험 발사다.재무부는 해당 시험 발사가 북한이 개발 중인 신형 ICBM 시스템과 연관됐으며, 향후 ICBM 시험 수행에 대비한 역량 평가 차원이었다고 했다. 이와 함께 지난 3월24일 북한의 ICBM 시험 발사도 거론했다.이번 제재 대상에는 북한 군수산업부(MID) 하위조직인 로케트공업부를 비롯해 합장강무역회사, 조선승리산무역회사, 운천무역회사, 고려 등 수익 창출 관련 무역 기업 4곳이 포함됐다.재닛 옐런 재무장관은 보도자료에서 \"북한의 도발적인 탄도미사일 실험은 역내, 그리고 세계의 안보 환경에 명백한 위협을 제기하고 유엔 안보리 결의안을 노골적으로 위반한다\"라며 \"북한의 WMD·탄도미사일 지속 개발에 대응해 미국은 제재 권한을 사용한다\"라고 했다.\\n',\n",
              "  'title': '美재무부, 北 WMD·탄도미사일 관련 5개 단체 추가 제재',\n",
              "  'url': 'https://n.news.naver.com/mnews/article/003/0011098875?sid=100'},\n",
              " {'_id': ObjectId('62b7de24d078569328d908e6'),\n",
              "  'comments': [{'antipathy': 0,\n",
              "    'id': '754075457128759620',\n",
              "    'sentiment_result': '긍정',\n",
              "    'sympathy': 1,\n",
              "    'text': '김준혁 수원시장 응원 합니다.',\n",
              "    'time': datetime.datetime(2022, 4, 3, 7, 51, 36),\n",
              "    'uid': 'q017'}],\n",
              "  'date': datetime.datetime(2022, 4, 1, 14, 57, 1),\n",
              "  'offer': '오마이뉴스',\n",
              "  'sentiment_result': '부정',\n",
              "  'text': '\\n세월호 추모 위해 \\'기억과 약속의 기간\\' 선포... 4월 16일까지 시청 게양대에 \\'세월호기\\' 게양   \\n\\n\\n\\n     ▲ \\xa0수원시가 세월호 참사 8주기를 맞아 4월 1~16일을 \\'기억과 약속의 기간\\'으로 선포하고, 1일 시청 게양대에 ‘세월호기’를 게양했다.            ⓒ 수원시  \\xa0\"기억하고 행동하겠습니다.\"세월호 참사 8주기(16일)를 앞둔 1일 세월호 희생자를 추모하고 당시 사건을 기억하기 위한 노란색 세월호 깃발이 수원시청 앞에 걸렸다.수원시는 이날 시청 게양대에 노란 리본이 그려진 \\'세월호기\\'를 게양하고, 16일까지 \\'기억과 약속의 기간\\'으로 선포했다. 세월호기는 수원시정 상징기를 거는 깃대에 이달 16일까지 게양한다.수원시에 따르면, \\'기억과 약속의 기간\\'은 세월호 참사를 기억하며 희생자 304명을 추모하는 시간이다. 또 참사의 아픔을 되새기며 \\'안전\\'에 대해 생각하는 기간이다.이날 시청 본관 로비에서 열린 \\'기억과 약속의 기간\\' 선포식은 묵념, 세월호기 게양, 최순화 (사)4.16 세월호참사 가족협의회 대외협력부서장의 감사 인사 등으로 진행됐다.수원시 관계자는 \"8년이라는 시간이 흐르면서 세월호 참사가 우리의 기억에서 조금씩 잊히는 것 같아 안타깝다\"며 \"기억과 약속의 기간이 그날의 아픔을 되새기고, 희생자를 추모하는 데 조금이나마 도움이 되길 바란다\"고 말했다.\\xa0        \\n\\n\\n\\n     ▲ \\xa0수원시는 세월호 참사 8주기를 맞아 1일 시청 본관 로비에서 \\'기억과 약속의 기간\\' 선포식을 열었다.            ⓒ 수원시  \\xa0이 관계자는 이어 \"수원시는 세월호 희생자를 기억하며 추모하고, 시민 모두가 안전한 사회를 만들기 위해 지속해서 노력하고 있다\"며 \"기억과 약속의 기간이 안전에 대해 다시 한번 생각해보는 시간이 됐으면 한다\"고 덧붙였다.이날 선포식에 참석한 김준혁(한신대 교수) 수원시장 예비후보는 \"세월호 참사가 일어난 지 8년이 지난 지금도 유가족분들의 슬픔과 고통은 헤아리기 어렵다\"며 \"우리가 끝까지 잊지 않고 기억하며 마음 깊이 새기는 것만이 그분들을 위로하는 것이라고 생각한다\"고 말했다.한편 2014년 4월 16일 발생한 세월호 참사 후 사고의 실종자들이 돌아오기를 바라는 의미에서 노란 리본 달기 캠페인이 벌어졌다. 시민들은 직접 노란 리본을 매거나, 카카오톡, 페이스북 등의 프로필 사진을 노란 리본 이미지로 교체하는 등의 방식으로 캠페인에 참여했다.\\n',\n",
              "  'title': \"수원시 청사 앞에 걸린 '노란 리본' 깃발의 의미\",\n",
              "  'url': 'https://n.news.naver.com/mnews/article/047/0002347878?sid=100'},\n",
              " {'_id': ObjectId('62b7de24d078569328d908e7'),\n",
              "  'comments': [{'antipathy': 0,\n",
              "    'id': '753928456705671488',\n",
              "    'sentiment_result': '부정',\n",
              "    'sympathy': 3,\n",
              "    'text': '미국은 아무 의미도 없는 북한애들을 제재하기보다는 북한애들한테 돈을 상납하는 남한내 북한 꼬붕들을 먼저 제재해야 한다. 일단 문ㆍ림ㆍ리 이 세명부터 제재시작해라.',\n",
              "    'time': datetime.datetime(2022, 4, 1, 17, 49, 51),\n",
              "    'uid': 'fM3e'},\n",
              "   {'antipathy': 0,\n",
              "    'id': '753922579277807922',\n",
              "    'sentiment_result': '긍정',\n",
              "    'sympathy': 1,\n",
              "    'text': '문가는빔뚱데이눈치보느라좌불안석이네ㅡ\\n보따리사서ㅡ평양가라ㅡ\\n양산가면부엉이바워가든지ㅡ',\n",
              "    'time': datetime.datetime(2022, 4, 1, 16, 18, 37),\n",
              "    'uid': '1NH7I'},\n",
              "   {'antipathy': 0,\n",
              "    'id': '753922380081922363',\n",
              "    'sentiment_result': '부정',\n",
              "    'sympathy': 0,\n",
              "    'text': '이글은 대께문들이 싫어합니다~',\n",
              "    'time': datetime.datetime(2022, 4, 1, 16, 15, 32),\n",
              "    'uid': '5RYgM'},\n",
              "   {'antipathy': 0,\n",
              "    'id': '753921307782939044',\n",
              "    'sentiment_result': '부정',\n",
              "    'sympathy': 5,\n",
              "    'text': '문죄인 계좌 묶이는건가',\n",
              "    'time': datetime.datetime(2022, 4, 1, 15, 58, 53),\n",
              "    'uid': 'bHA9P'},\n",
              "   {'antipathy': 0,\n",
              "    'id': '753920631241703610',\n",
              "    'sentiment_result': '부정',\n",
              "    'sympathy': 5,\n",
              "    'text': '민주당 정치인들 땅을 치면서 오열하고 있겠네 ㅋㅋㅋㅋㅋㅋㅋㅋㅋ',\n",
              "    'time': datetime.datetime(2022, 4, 1, 15, 48, 23),\n",
              "    'uid': 'f0UK'},\n",
              "   {'antipathy': 0,\n",
              "    'id': '753920497174970509',\n",
              "    'sentiment_result': '긍정',\n",
              "    'sympathy': 4,\n",
              "    'text': '이왕 깊이 나갈꺼 한미 연합훈련 fk35  fk15  총동원해서 동해 서해서 크게 요동 치게 해  해보자 그리고 현무4  5  천기이상 생산 조속 비축하면 좋겠다',\n",
              "    'time': datetime.datetime(2022, 4, 1, 15, 46, 18),\n",
              "    'uid': 'nxFP'},\n",
              "   {'antipathy': 0,\n",
              "    'id': '753920200033698163',\n",
              "    'sentiment_result': '부정',\n",
              "    'sympathy': 10,\n",
              "    'text': '공산주의 사상을 가진자는 민주주의와  원수다',\n",
              "    'time': datetime.datetime(2022, 4, 1, 15, 41, 41),\n",
              "    'uid': '98HBi'},\n",
              "   {'antipathy': 0,\n",
              "    'id': '753919674671956203',\n",
              "    'sentiment_result': '부정',\n",
              "    'sympathy': 6,\n",
              "    'text': '제제당하고 다 굶어죽어도 정은이 돼지색이 목하나 못따는 북한넘들은  동정할 필요가 없다..  우리는 민주주의 공짜로 얻었냐?? 매일 데모하고 민주화 운동해서  자유를  얻었다... 그랬더니  간첩색이들이  숟가락 올려서  탱자탱자하는게  문제지만...북한넘들은 죽어도 싸다...',\n",
              "    'time': datetime.datetime(2022, 4, 1, 15, 33, 32),\n",
              "    'uid': 'c8xIn'},\n",
              "   {'antipathy': 2,\n",
              "    'id': '753919661367623808',\n",
              "    'sentiment_result': '부정',\n",
              "    'sympathy': 0,\n",
              "    'text': '북한은 고립국가이고 중국, 러시아가 도와주니 제재 소용없다. 곧 핵실험 다시 한다는데...',\n",
              "    'time': datetime.datetime(2022, 4, 1, 15, 33, 20),\n",
              "    'uid': '1uxAI'},\n",
              "   {'antipathy': 0,\n",
              "    'id': '753919156323090685',\n",
              "    'sentiment_result': '부정',\n",
              "    'sympathy': 3,\n",
              "    'text': '자꾸 이런식의 제재는 아무런 의미가 없다.원래 거지 나라고 기관,개인 제재 해봤자 DPRK체제하에서 돈줄은 김정은 한 마리에게 집중되 있기에 무의미 하며 그 녀석들도 이제 면역 됐다.실질적 가시적 성과는 단 한번도 없었다.구두탄,말폭탄은 애GSGG간띠만 키운다',\n",
              "    'time': datetime.datetime(2022, 4, 1, 15, 25, 29),\n",
              "    'uid': 'ckDkD'},\n",
              "   {'antipathy': 0,\n",
              "    'id': '753919082922770605',\n",
              "    'sentiment_result': '긍정',\n",
              "    'sympathy': 3,\n",
              "    'text': '감사합니다 대한민국 지켜주시는  바이든대통령님',\n",
              "    'time': datetime.datetime(2022, 4, 1, 15, 24, 21),\n",
              "    'uid': '3h3kI'},\n",
              "   {'antipathy': 0,\n",
              "    'id': '753918834804523244',\n",
              "    'sentiment_result': '부정',\n",
              "    'sympathy': 3,\n",
              "    'text': '우리 국민이  문재인같은 하극상을  둔거나  북한주민이  김정은같은  하극상을 둔죄로   국민들만   고통받고있다는게 똑같네',\n",
              "    'time': datetime.datetime(2022, 4, 1, 15, 20, 30),\n",
              "    'uid': '3o7hC'}],\n",
              "  'date': datetime.datetime(2022, 4, 1, 14, 57, 1),\n",
              "  'offer': '동아일보',\n",
              "  'sentiment_result': '긍정',\n",
              "  'text': '\\n\\n\\n\\n\\n북한이 공개한 ‘화성-17형’ 미사일 발사 영상 갈무리. 뉴스1미국 재무부는 지난달 북한의 대륙간탄도미사일(ICBM) 시험 발사와 관련해 북한의 5개 기관을 추가로 제재한다고 1일(현지 시간) 발표했다. 재닛 옐런 미국 재무장관은 “북한의 도발적인 ICBM 시험 발사는 세계 안보에 대한 명백한 위협”이라고 비판했다.   이날 재무부는 홈페이지를 통해 북한 군수산업부 산하 로켓산업부와 합장강무역공사, 한국운산무역공사, 승리산무역공사, 운천무역공사 등 5곳을 제재 대상에 추가한다고 밝혔다. 재무부는 북한이 올해 2월 26일, 지난달 4일 각각 미사일 시험발사를 감행한 것은 유엔 안전보장이사회의 결의를 위반한 것이라고 지적했다. 또 이번 제재 대상에 오른 5곳은 북한의 ICBM 및 대량살상무기 연구개발 조직과 직접 연관됐다고 이유를 설명했다.   제재 대상에 오른 곳은 미 기업 및 미국인이 소유한 법인과의 거래가 모두 금지된다. 이 제재 대상과 거래하는 개인 및 기업도 제재 대상이 될 수 있다. 미국의 제재를 고의로 회피하려는 외국 기업, 개인, 금융기관 등도 제재 대상이 될 수 있다고 재무부는 경고했다.   옐런 장관은 “북한은 안보리 결의를 노골적으로 위반하고 있다”며 “미국은 북한의 계속되는 대량살상무기, 탄도미사일 개발에 대응하기 위해 제재를 사용할 것을 약속한다”고 말했다. 또 “북한에 대한 일본의 대응을 높이 평가한다. 북한의 계속되는 위협에 우리는 함께 대응할 준비가 돼있다”며 이례적으로 일본을 언급했다.  재무부가 추가 대북 제재를 발표하기 불과 몇 시간 전 일본은 북한의 ICBM 발사와 관련된 러시아 4개 기관, 러시아 국적자 3명, 북한 국적자 6명의 자산을 동결했다. 일본의 독자 제재는 미국의 대북 제재에 동참한다는 뜻으로 풀이된다.\\n',\n",
              "  'title': '美재무부, 北 로켓산업부 등 5개 기관 추가 제재',\n",
              "  'url': 'https://n.news.naver.com/mnews/article/020/0003420119?sid=100'}]"
            ]
          },
          "metadata": {},
          "output_type": "display_data"
        }
      ],
      "source": [
        "display(arr)\n"
      ]
    }
  ],
  "metadata": {
    "accelerator": "GPU",
    "colab": {
      "collapsed_sections": [],
      "machine_shape": "hm",
      "name": "koelectra_isnert_db.ipynb",
      "provenance": []
    },
    "gpuClass": "standard",
    "kernelspec": {
      "display_name": "Python 3",
      "name": "python3"
    }
  },
  "nbformat": 4,
  "nbformat_minor": 0
}
