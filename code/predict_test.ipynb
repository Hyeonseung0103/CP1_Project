{
  "cells": [
    {
      "cell_type": "markdown",
      "metadata": {},
      "source": [
        "# KoBART Model 성능 평가 및 비교\n",
        "KoBART 모델이 무료 클라우드인 오라클 프리티어 서버에 배포하기에는 무거운 모델이라서 KoBART small 모델을 개발하여 성능을 비교했다.\n",
        "하지만, KoBART small 모델과의 요약속도 차이가 드라마틱하게 달라지진 않고, 성능 또한 기존 KoBART 모델이 훨씬 좋다고 판단하여 결국 KoBART 모델을 사용했다."
      ]
    },
    {
      "cell_type": "code",
      "execution_count": null,
      "metadata": {
        "colab": {
          "base_uri": "https://localhost:8080/"
        },
        "id": "IdDXscIlFOTc",
        "outputId": "8e4fed8b-eb03-4c2e-8e20-005a96226836"
      },
      "outputs": [
        {
          "name": "stdout",
          "output_type": "stream",
          "text": [
            "Mounted at /content/drive\n"
          ]
        }
      ],
      "source": [
        "from google.colab import drive\n",
        "drive.mount('/content/drive', force_remount = True)"
      ]
    },
    {
      "cell_type": "code",
      "execution_count": null,
      "metadata": {
        "colab": {
          "base_uri": "https://localhost:8080/"
        },
        "id": "OHVd1_h3T6U7",
        "outputId": "01f10b1b-2f48-49ef-ab61-855142d506dc"
      },
      "outputs": [],
      "source": [
        "!pip install transformers"
      ]
    },
    {
      "cell_type": "code",
      "execution_count": null,
      "metadata": {
        "colab": {
          "base_uri": "https://localhost:8080/"
        },
        "id": "s4HLudwIHhDk",
        "outputId": "0da81d9d-dc35-4255-ca76-f764b0cddc18"
      },
      "outputs": [
        {
          "name": "stdout",
          "output_type": "stream",
          "text": [
            "Torch version:1.11.0+cu113\n",
            "cuda version: 11.3\n",
            "cudnn version:8200\n"
          ]
        }
      ],
      "source": [
        "import torch\n",
        "print(\"Torch version:{}\".format(torch.__version__))\n",
        "print(\"cuda version: {}\".format(torch.version.cuda))\n",
        "print(\"cudnn version:{}\".format(torch.backends.cudnn.version()))"
      ]
    },
    {
      "cell_type": "code",
      "execution_count": null,
      "metadata": {
        "colab": {
          "base_uri": "https://localhost:8080/"
        },
        "id": "4SUdLwVHHkud",
        "outputId": "e5ce80ba-3f0f-4b72-c7c1-174a92e83fe4"
      },
      "outputs": [
        {
          "name": "stdout",
          "output_type": "stream",
          "text": [
            "/content/drive/MyDrive/AI_camp/CP1/KoBART-summarization\n"
          ]
        }
      ],
      "source": [
        "cd /content/drive/MyDrive/AI_camp/CP1/KoBART-summarization"
      ]
    },
    {
      "cell_type": "code",
      "execution_count": null,
      "metadata": {
        "colab": {
          "base_uri": "https://localhost:8080/"
        },
        "id": "xNA500qFP7f1",
        "outputId": "b6d1094b-03b7-405e-9192-6df36387831e"
      },
      "outputs": [],
      "source": [
        "# 파인 튜닝된 KoBART 모델 불러오기 to use GPU\n",
        "from transformers import PreTrainedTokenizerFast\n",
        "from transformers.models.bart import BartForConditionalGeneration\n",
        "\n",
        "device = torch.device(\"cuda\")\n",
        "model = BartForConditionalGeneration.from_pretrained('./kobart_summary')\n",
        "model.load_state_dict(torch.load('/content/drive/MyDrive/AI_camp/CP1/KoBART-summarization/kobart_summary/pytorch_model.bin'))\n",
        "model.to(device)\n",
        "\n",
        "tokenizer = PreTrainedTokenizerFast.from_pretrained('gogamza/kobart-base-v1')"
      ]
    },
    {
      "cell_type": "code",
      "execution_count": null,
      "metadata": {
        "id": "USfcCKDK-4E0"
      },
      "outputs": [],
      "source": [
        "DATA_PATH = '/content/drive/.....'"
      ]
    },
    {
      "cell_type": "code",
      "execution_count": null,
      "metadata": {
        "colab": {
          "base_uri": "https://localhost:8080/",
          "height": 206
        },
        "id": "YLjo4Ohp-4g2",
        "outputId": "9be61336-0037-44d3-fc02-ef38b4bb1b84"
      },
      "outputs": [
        {
          "data": {
            "text/html": [
              "\n",
              "  <div id=\"df-426f6ddb-a4ec-48d4-ba4f-ec6d89884713\">\n",
              "    <div class=\"colab-df-container\">\n",
              "      <div>\n",
              "<style scoped>\n",
              "    .dataframe tbody tr th:only-of-type {\n",
              "        vertical-align: middle;\n",
              "    }\n",
              "\n",
              "    .dataframe tbody tr th {\n",
              "        vertical-align: top;\n",
              "    }\n",
              "\n",
              "    .dataframe thead th {\n",
              "        text-align: right;\n",
              "    }\n",
              "</style>\n",
              "<table border=\"1\" class=\"dataframe\">\n",
              "  <thead>\n",
              "    <tr style=\"text-align: right;\">\n",
              "      <th></th>\n",
              "      <th>news</th>\n",
              "      <th>summary</th>\n",
              "    </tr>\n",
              "  </thead>\n",
              "  <tbody>\n",
              "    <tr>\n",
              "      <th>2915</th>\n",
              "      <td>국립대구과학관(관장 김주한)은 인류 달 탐사 50주년과 국제천문연맹 설립 100주년...</td>\n",
              "      <td>인류 최초 닐 암스트롱의 달 탐사 50주년과 국제 천문연맹 설립 100주년을 맞이하...</td>\n",
              "    </tr>\n",
              "    <tr>\n",
              "      <th>19964</th>\n",
              "      <td>산재보험 사각지대에 놓여 있는 방문·돌봄서비스 종사자, 화물차주, 정보통신(IT) ...</td>\n",
              "      <td>산재보험 사각지대에 있는 돌봄서비스 종사자와 자유계자자 등도 산재보험을 받을 수 있...</td>\n",
              "    </tr>\n",
              "    <tr>\n",
              "      <th>5264</th>\n",
              "      <td>이너테인먼트 바스타라이브VR 서비스를 이용해 머스트비 VR 팬미팅을 진행하고 있다....</td>\n",
              "      <td>31일 이너테인먼트는 지난 27일 국내 인기 아이돌 머스트비와 아바타로 접속한 팬들...</td>\n",
              "    </tr>\n",
              "    <tr>\n",
              "      <th>13328</th>\n",
              "      <td>넷마블(대표 권영식)은 모바일 실시간 전략 대전 게임 '매직: 마나스트라이크'의 플...</td>\n",
              "      <td>넷마블은 세계 최초의 트레이딩 카드 게임인 '매직: 더 개더링'의 IP를 고품질 3...</td>\n",
              "    </tr>\n",
              "    <tr>\n",
              "      <th>16429</th>\n",
              "      <td>올해 1분기 수출이 전년 같은 기간에 비해 줄었다.수출이 전년도 동기에 비해서 감소...</td>\n",
              "      <td>지난 8일 한국은행이 발표한 '2019년 3월 국제수지'에 의하면 올 1분기 수출은...</td>\n",
              "    </tr>\n",
              "  </tbody>\n",
              "</table>\n",
              "</div>\n",
              "      <button class=\"colab-df-convert\" onclick=\"convertToInteractive('df-426f6ddb-a4ec-48d4-ba4f-ec6d89884713')\"\n",
              "              title=\"Convert this dataframe to an interactive table.\"\n",
              "              style=\"display:none;\">\n",
              "        \n",
              "  <svg xmlns=\"http://www.w3.org/2000/svg\" height=\"24px\"viewBox=\"0 0 24 24\"\n",
              "       width=\"24px\">\n",
              "    <path d=\"M0 0h24v24H0V0z\" fill=\"none\"/>\n",
              "    <path d=\"M18.56 5.44l.94 2.06.94-2.06 2.06-.94-2.06-.94-.94-2.06-.94 2.06-2.06.94zm-11 1L8.5 8.5l.94-2.06 2.06-.94-2.06-.94L8.5 2.5l-.94 2.06-2.06.94zm10 10l.94 2.06.94-2.06 2.06-.94-2.06-.94-.94-2.06-.94 2.06-2.06.94z\"/><path d=\"M17.41 7.96l-1.37-1.37c-.4-.4-.92-.59-1.43-.59-.52 0-1.04.2-1.43.59L10.3 9.45l-7.72 7.72c-.78.78-.78 2.05 0 2.83L4 21.41c.39.39.9.59 1.41.59.51 0 1.02-.2 1.41-.59l7.78-7.78 2.81-2.81c.8-.78.8-2.07 0-2.86zM5.41 20L4 18.59l7.72-7.72 1.47 1.35L5.41 20z\"/>\n",
              "  </svg>\n",
              "      </button>\n",
              "      \n",
              "  <style>\n",
              "    .colab-df-container {\n",
              "      display:flex;\n",
              "      flex-wrap:wrap;\n",
              "      gap: 12px;\n",
              "    }\n",
              "\n",
              "    .colab-df-convert {\n",
              "      background-color: #E8F0FE;\n",
              "      border: none;\n",
              "      border-radius: 50%;\n",
              "      cursor: pointer;\n",
              "      display: none;\n",
              "      fill: #1967D2;\n",
              "      height: 32px;\n",
              "      padding: 0 0 0 0;\n",
              "      width: 32px;\n",
              "    }\n",
              "\n",
              "    .colab-df-convert:hover {\n",
              "      background-color: #E2EBFA;\n",
              "      box-shadow: 0px 1px 2px rgba(60, 64, 67, 0.3), 0px 1px 3px 1px rgba(60, 64, 67, 0.15);\n",
              "      fill: #174EA6;\n",
              "    }\n",
              "\n",
              "    [theme=dark] .colab-df-convert {\n",
              "      background-color: #3B4455;\n",
              "      fill: #D2E3FC;\n",
              "    }\n",
              "\n",
              "    [theme=dark] .colab-df-convert:hover {\n",
              "      background-color: #434B5C;\n",
              "      box-shadow: 0px 1px 3px 1px rgba(0, 0, 0, 0.15);\n",
              "      filter: drop-shadow(0px 1px 2px rgba(0, 0, 0, 0.3));\n",
              "      fill: #FFFFFF;\n",
              "    }\n",
              "  </style>\n",
              "\n",
              "      <script>\n",
              "        const buttonEl =\n",
              "          document.querySelector('#df-426f6ddb-a4ec-48d4-ba4f-ec6d89884713 button.colab-df-convert');\n",
              "        buttonEl.style.display =\n",
              "          google.colab.kernel.accessAllowed ? 'block' : 'none';\n",
              "\n",
              "        async function convertToInteractive(key) {\n",
              "          const element = document.querySelector('#df-426f6ddb-a4ec-48d4-ba4f-ec6d89884713');\n",
              "          const dataTable =\n",
              "            await google.colab.kernel.invokeFunction('convertToInteractive',\n",
              "                                                     [key], {});\n",
              "          if (!dataTable) return;\n",
              "\n",
              "          const docLinkHtml = 'Like what you see? Visit the ' +\n",
              "            '<a target=\"_blank\" href=https://colab.research.google.com/notebooks/data_table.ipynb>data table notebook</a>'\n",
              "            + ' to learn more about interactive tables.';\n",
              "          element.innerHTML = '';\n",
              "          dataTable['output_type'] = 'display_data';\n",
              "          await google.colab.output.renderOutput(dataTable, element);\n",
              "          const docLink = document.createElement('div');\n",
              "          docLink.innerHTML = docLinkHtml;\n",
              "          element.appendChild(docLink);\n",
              "        }\n",
              "      </script>\n",
              "    </div>\n",
              "  </div>\n",
              "  "
            ],
            "text/plain": [
              "                                                    news  \\\n",
              "2915   국립대구과학관(관장 김주한)은 인류 달 탐사 50주년과 국제천문연맹 설립 100주년...   \n",
              "19964  산재보험 사각지대에 놓여 있는 방문·돌봄서비스 종사자, 화물차주, 정보통신(IT) ...   \n",
              "5264   이너테인먼트 바스타라이브VR 서비스를 이용해 머스트비 VR 팬미팅을 진행하고 있다....   \n",
              "13328  넷마블(대표 권영식)은 모바일 실시간 전략 대전 게임 '매직: 마나스트라이크'의 플...   \n",
              "16429  올해 1분기 수출이 전년 같은 기간에 비해 줄었다.수출이 전년도 동기에 비해서 감소...   \n",
              "\n",
              "                                                 summary  \n",
              "2915   인류 최초 닐 암스트롱의 달 탐사 50주년과 국제 천문연맹 설립 100주년을 맞이하...  \n",
              "19964  산재보험 사각지대에 있는 돌봄서비스 종사자와 자유계자자 등도 산재보험을 받을 수 있...  \n",
              "5264   31일 이너테인먼트는 지난 27일 국내 인기 아이돌 머스트비와 아바타로 접속한 팬들...  \n",
              "13328  넷마블은 세계 최초의 트레이딩 카드 게임인 '매직: 더 개더링'의 IP를 고품질 3...  \n",
              "16429  지난 8일 한국은행이 발표한 '2019년 3월 국제수지'에 의하면 올 1분기 수출은...  "
            ]
          },
          "metadata": {},
          "output_type": "display_data"
        }
      ],
      "source": [
        "# 성능평가용 데이터 1000개\n",
        "import pandas as pd\n",
        "\n",
        "v = pd.read_csv(f'{DATA_PATH}test2.tsv', sep= '\\t')\n",
        "valid_data = v.sample(n=1000, random_state = 42)\n",
        "display(valid_data.head())"
      ]
    },
    {
      "cell_type": "code",
      "execution_count": null,
      "metadata": {
        "colab": {
          "base_uri": "https://localhost:8080/"
        },
        "id": "eB_mKqiYHtPM",
        "outputId": "260682e7-427f-4c91-93c6-48fe0a9b3e14"
      },
      "outputs": [
        {
          "name": "stdout",
          "output_type": "stream",
          "text": [
            "CPU times: user 4min 54s, sys: 665 ms, total: 4min 55s\n",
            "Wall time: 4min 54s\n"
          ]
        }
      ],
      "source": [
        "# 문서를 토크나이즈 하고, Fine tuning 된 KoBART 모델이 문서를 요약함\n",
        "# 요약된 문서는 성능 평가를 위해 output_list라는 리스트에 저장\n",
        "%%time\n",
        "output_list = []\n",
        "for i in valid_data['news']:\n",
        "    input_ids = tokenizer.encode(i)\n",
        "    input_ids = torch.tensor(input_ids, device = torch.device('cuda'))\n",
        "    input_ids = input_ids.unsqueeze(0)\n",
        "    output = model.generate(input_ids, eos_token_id=1, max_length=64, num_beams=2)\n",
        "    output = tokenizer.decode(output[0], skip_special_tokens=True)\n",
        "    output_list.append(output)"
      ]
    },
    {
      "cell_type": "code",
      "execution_count": null,
      "metadata": {
        "colab": {
          "base_uri": "https://localhost:8080/"
        },
        "id": "JZ2QXgJXHtfQ",
        "outputId": "f293dbc4-007a-4db9-a9c3-ba505407d938"
      },
      "outputs": [
        {
          "name": "stderr",
          "output_type": "stream",
          "text": [
            "The tokenizer class you load from this checkpoint is not the same type as the class this function is called from. It may result in unexpected tokenization. \n",
            "The tokenizer class you load from this checkpoint is 'BartTokenizer'. \n",
            "The class this function is called from is 'PreTrainedTokenizerFast'.\n"
          ]
        }
      ],
      "source": [
        "# 경량화를 위해 만들었던 KoBART small 모델도 불러오기\n",
        "tokenizer_small = PreTrainedTokenizerFast.from_pretrained('cosmoquester/bart-ko-small')\n",
        "device = torch.device(\"cuda\")\n",
        "model_small = torch.load('/content/drive/MyDrive/AI_camp/CP1/KoBART-small/model.pt')"
      ]
    },
    {
      "cell_type": "code",
      "execution_count": null,
      "metadata": {
        "id": "ELRsuzcGVbbr"
      },
      "outputs": [],
      "source": [
        "#KoBART small 모델을 사용한 문서요약 예측 함수\n",
        "def predict(text):\n",
        "    text = text.replace('\\n', ' ')\n",
        "    raw_input_ids = tokenizer_small.encode(text)\n",
        "    input_ids = [tokenizer_small.bos_token_id] + raw_input_ids + [tokenizer_small.eos_token_id]\n",
        "    summary_ids = model_small.generate(torch.tensor([input_ids], dtype=torch.int32, device=device),  num_beams=2,  max_length=64,  eos_token_id=tokenizer_small.eos_token_id)\n",
        "    return tokenizer_small.decode(summary_ids.squeeze().tolist(), skip_special_tokens=True)"
      ]
    },
    {
      "cell_type": "code",
      "execution_count": null,
      "metadata": {
        "colab": {
          "base_uri": "https://localhost:8080/"
        },
        "id": "_3FZJfo1VdlK",
        "outputId": "44b10da5-1ac3-4ea0-f6e5-bfd63c77be7e"
      },
      "outputs": [
        {
          "name": "stdout",
          "output_type": "stream",
          "text": [
            "CPU times: user 4min 26s, sys: 674 ms, total: 4min 26s\n",
            "Wall time: 4min 26s\n"
          ]
        }
      ],
      "source": [
        "#KoBART small 모델로 예측\n",
        "%%time\n",
        "output_list2 = []\n",
        "for i in valid_data['news']:\n",
        "    output_list2.append(predict(i))"
      ]
    },
    {
      "cell_type": "code",
      "execution_count": null,
      "metadata": {
        "colab": {
          "base_uri": "https://localhost:8080/"
        },
        "id": "fqfb1r0SHtnP",
        "outputId": "cf23a5e0-74bf-4c0c-9c11-c262d00300e5"
      },
      "outputs": [
        {
          "name": "stdout",
          "output_type": "stream",
          "text": [
            "기존 KoBART 모델 {'rouge-1': {'r': 0.283769893592443, 'p': 0.33985915133698996, 'f': 0.3001045641284538}, 'rouge-2': {'r': 0.16390030621293916, 'p': 0.2018989156577948, 'f': 0.17502724363967237}, 'rouge-l': {'r': 0.25873905117159457, 'p': 0.31167202652406834, 'f': 0.2743092474260298}}\n",
            "\n",
            "KoBART-small 모델 {'rouge-1': {'r': 0.2509237634264106, 'p': 0.30300402719159075, 'f': 0.26840430464543547}, 'rouge-2': {'r': 0.14028444998357678, 'p': 0.17043379746868575, 'f': 0.1504494574030706}, 'rouge-l': {'r': 0.24060665033213777, 'p': 0.29072046470719126, 'f': 0.25743577316637756}}\n"
          ]
        }
      ],
      "source": [
        "#Fine tuning한 KoBART 모델과 KoBART small 모델 성능 비교.\n",
        "#!pip install rouge\n",
        "from rouge import Rouge\n",
        "\n",
        "rouge = Rouge()\n",
        "print('기존 KoBART 모델', rouge.get_scores(output_list,valid_data.summary.tolist(), avg=True))\n",
        "\n",
        "print('')\n",
        "\n",
        "print('KoBART-small 모델', rouge.get_scores(output_list2,valid_data.summary.tolist(), avg=True))\n",
        "#Rouge score: 모델이 요약한 문서와 사람이 요약한 문서를 비교해서 중요한 단어가 얼마나 겹치는 가를 기반으로 성능을 평가한다.\n",
        "# small보다 기존의 KoBART 모델의 성능이 더 뛰어난 것을 확인할 수 있다."
      ]
    },
    {
      "cell_type": "code",
      "execution_count": null,
      "metadata": {
        "colab": {
          "base_uri": "https://localhost:8080/"
        },
        "id": "zVPCXQYNA5a5",
        "outputId": "96853b7c-af89-4cc5-c484-ab3a69d86c91"
      },
      "outputs": [
        {
          "name": "stdout",
          "output_type": "stream",
          "text": [
            "KoBART 요약:  한국감정원은 25일 GTX A노선 민간투자사업의 토지보상계획을 공고함에 따라 2023년 개통을 목표로 보상이 완료되는 토지부터 개발에 착수한다는 계획이다.\n",
            "정답:  한국감정원은 25일 GTX A노선 개발과 관련한 토지보상 절차가 개시되어 사업 본격화가 초읽기에 들어가 계획을 공고하고  8월께 감정평가와 9월에는 협의통지 등을 순차적으로 진행할 예정이다.\n"
          ]
        }
      ],
      "source": [
        "# 실제 요약문과 KoBART 모델의 요약문 비교\n",
        "print('KoBART 요약: ', output_list[10])\n",
        "print('정답: ', valid_data.summary.iloc[10])"
      ]
    },
    {
      "cell_type": "code",
      "execution_count": null,
      "metadata": {
        "colab": {
          "base_uri": "https://localhost:8080/"
        },
        "id": "zvuJcv1WA7c8",
        "outputId": "275d89e2-687a-45d9-9267-aab364ef5716"
      },
      "outputs": [
        {
          "name": "stdout",
          "output_type": "stream",
          "text": [
            "KoBART-small 요약:  수도권광역급행철도-A노선 개발과 관련한 토지보상 절차가 개시됐다. 경기도 303필지와 서울시 80필지 등 편입면적 29만8044.3m2가 대상이다.국토교통부는 토지보상 공고를 시작\n",
            "정답:  한국감정원은 25일 GTX A노선 개발과 관련한 토지보상 절차가 개시되어 사업 본격화가 초읽기에 들어가 계획을 공고하고  8월께 감정평가와 9월에는 협의통지 등을 순차적으로 진행할 예정이다.\n"
          ]
        }
      ],
      "source": [
        "# 실제 요약문과 KoBART small모델의 요약문 비교\n",
        "print('KoBART-small 요약: ', output_list2[10])\n",
        "print('정답: ', valid_data.summary.iloc[10])"
      ]
    }
  ],
  "metadata": {
    "accelerator": "GPU",
    "colab": {
      "collapsed_sections": [],
      "machine_shape": "hm",
      "name": "predict_test.ipynb",
      "provenance": []
    },
    "gpuClass": "standard",
    "kernelspec": {
      "display_name": "Python 3",
      "name": "python3"
    },
    "language_info": {
      "name": "python"
    }
  },
  "nbformat": 4,
  "nbformat_minor": 0
}
