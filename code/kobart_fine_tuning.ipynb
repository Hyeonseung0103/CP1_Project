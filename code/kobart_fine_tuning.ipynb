{
  "cells": [
    {
      "cell_type": "markdown",
      "metadata": {},
      "source": [
        "# KOBART 모델 학습\n",
        "Github에 작성되어 있는 KoBART 사전 학습 모델을 불러오고, AI-HUB에서 직접 수집한 데이터를 사용하여 Fine-tuning 시켰다.\n",
        "원래 전처리한 데이터까지 포함하여 약 48만개의 데이터를 학습에 사용하려고 했지만, 시간과 GPU 환경의 한계로 학습 데이터는 2만개, 테스트 데이터는 4000개만 사용했다.\n",
        "사용한 모델은 bin파일 형태로 저장하고, 이 파일을 불러와서 성능 평가나 문서 요약에 사용할 수 있다."
      ]
    },
    {
      "cell_type": "code",
      "execution_count": 2,
      "metadata": {
        "colab": {
          "base_uri": "https://localhost:8080/"
        },
        "id": "PKzOVylaPlrc",
        "outputId": "79416e72-2c42-483d-e38d-916d48759eb3"
      },
      "outputs": [
        {
          "name": "stdout",
          "output_type": "stream",
          "text": [
            "Mounted at /content/drive\n"
          ]
        }
      ],
      "source": [
        "from google.colab import drive\n",
        "drive.mount('/content/drive', force_remount = True)"
      ]
    },
    {
      "cell_type": "code",
      "execution_count": 7,
      "metadata": {
        "id": "mhYAjfYFO0k-"
      },
      "outputs": [],
      "source": [
        "DATA_PATH = '....'"
      ]
    },
    {
      "cell_type": "code",
      "execution_count": null,
      "metadata": {
        "colab": {
          "base_uri": "https://localhost:8080/"
        },
        "id": "DdWnePQoSIIJ",
        "outputId": "9c39724e-4b9b-4524-e1c6-b8f204c799c7"
      },
      "outputs": [
        {
          "name": "stdout",
          "output_type": "stream",
          "text": [
            "/content/drive/MyDrive/AI_camp/CP1\n"
          ]
        }
      ],
      "source": [
        "cd /content/drive/....."
      ]
    },
    {
      "cell_type": "code",
      "execution_count": null,
      "metadata": {
        "colab": {
          "base_uri": "https://localhost:8080/"
        },
        "id": "xGBc1FKbSSm1",
        "outputId": "ae4a0633-f64a-4b9c-8e50-3453cbe2b70c"
      },
      "outputs": [
        {
          "name": "stdout",
          "output_type": "stream",
          "text": [
            "Cloning into 'KoBART-summarization'...\n",
            "remote: Enumerating objects: 142, done.\u001b[K\n",
            "remote: Counting objects: 100% (59/59), done.\u001b[K\n",
            "remote: Compressing objects: 100% (22/22), done.\u001b[K\n",
            "remote: Total 142 (delta 46), reused 37 (delta 37), pack-reused 83\u001b[K\n",
            "Receiving objects: 100% (142/142), 37.23 MiB | 24.17 MiB/s, done.\n",
            "Resolving deltas: 100% (76/76), done.\n"
          ]
        }
      ],
      "source": [
        "# KoBART Pre trained 모델 로드\n",
        "# !git clone https://github.com/seujung/KoBART-summarization.git"
      ]
    },
    {
      "cell_type": "code",
      "execution_count": null,
      "metadata": {
        "id": "KcffwHLESW6g"
      },
      "outputs": [],
      "source": [
        "!pip install git+https://github.com/SKT-AI/KoBART#egg=kobart"
      ]
    },
    {
      "cell_type": "code",
      "execution_count": 1,
      "metadata": {
        "colab": {
          "base_uri": "https://localhost:8080/"
        },
        "id": "lKbOfLPVSdcu",
        "outputId": "dec6b88f-fbb8-47d7-97f7-40652f60e280"
      },
      "outputs": [
        {
          "name": "stdout",
          "output_type": "stream",
          "text": [
            "/content/drive/MyDrive/AI_camp/CP1/KoBART-summarization\n"
          ]
        }
      ],
      "source": [
        "cd /content/drive/......"
      ]
    },
    {
      "cell_type": "code",
      "execution_count": null,
      "metadata": {
        "id": "g2CxUyprQTXy"
      },
      "outputs": [],
      "source": [
        "#필요한 패키지 설치\n",
        "#cuda와 KoBART 버전에 맞게\n",
        "\n",
        "!pip install torch==1.10.0\n",
        "!pip install transformers==4.16.2\n",
        "!pip install pytorch-lightning==1.5.10\n",
        "!pip install streamlit==1.2.0\n",
        "\n",
        "#downgrade 필수\n",
        "!pip install torchmetrics==0.6.0\n",
        "\n",
        "#이것도 매칭\n",
        "!pip install torchvision==0.11.1\n",
        "\n",
        "#torch 1.10.0이랑 매칭시켜야함\n",
        "!pip install torchtext==0.6.0\n",
        "\n",
        "#모델 불러오기 위한 설치\n",
        "!pip install pyyaml==5.4.1"
      ]
    },
    {
      "cell_type": "code",
      "execution_count": 2,
      "metadata": {
        "colab": {
          "base_uri": "https://localhost:8080/"
        },
        "id": "oW3PEog7Qao6",
        "outputId": "3792a345-4c1d-41e4-d943-4f7221fbf1d5"
      },
      "outputs": [
        {
          "name": "stdout",
          "output_type": "stream",
          "text": [
            "Torch version:1.10.0+cu102\n",
            "cuda version: 10.2\n",
            "cudnn version:7605\n"
          ]
        }
      ],
      "source": [
        "import torch\n",
        "print(\"Torch version:{}\".format(torch.__version__))\n",
        "print(\"cuda version: {}\".format(torch.version.cuda))\n",
        "print(\"cudnn version:{}\".format(torch.backends.cudnn.version()))"
      ]
    },
    {
      "cell_type": "code",
      "execution_count": 8,
      "metadata": {
        "colab": {
          "base_uri": "https://localhost:8080/",
          "height": 434
        },
        "id": "5wb630aEqRJZ",
        "outputId": "bb77aa2b-d5d7-49dc-b84f-bd06315e0215"
      },
      "outputs": [
        {
          "name": "stderr",
          "output_type": "stream",
          "text": [
            "tcmalloc: large alloc 1073741824 bytes == 0x4634c000 @  0x7f99e5d8b2a4 0x7f99babae9a5 0x7f99babafcc1 0x7f99babb169e 0x7f99bab8250c 0x7f99bab8f399 0x7f99bab7797a 0x59afff 0x515655 0x549e0e 0x593fce 0x511e2c 0x549576 0x593fce 0x511e2c 0x593dd7 0x5118f8 0x549576 0x4bca8a 0x5134a6 0x549e0e 0x593fce 0x548ae9 0x5127f1 0x549576 0x604173 0x62a809 0x59358d 0x515244 0x598ef4 0x515a6e\n"
          ]
        },
        {
          "data": {
            "text/html": [
              "\n",
              "  <div id=\"df-a1027743-d71e-4190-b5e5-c9d9f27a8e38\">\n",
              "    <div class=\"colab-df-container\">\n",
              "      <div>\n",
              "<style scoped>\n",
              "    .dataframe tbody tr th:only-of-type {\n",
              "        vertical-align: middle;\n",
              "    }\n",
              "\n",
              "    .dataframe tbody tr th {\n",
              "        vertical-align: top;\n",
              "    }\n",
              "\n",
              "    .dataframe thead th {\n",
              "        text-align: right;\n",
              "    }\n",
              "</style>\n",
              "<table border=\"1\" class=\"dataframe\">\n",
              "  <thead>\n",
              "    <tr style=\"text-align: right;\">\n",
              "      <th></th>\n",
              "      <th>news</th>\n",
              "      <th>summary</th>\n",
              "    </tr>\n",
              "  </thead>\n",
              "  <tbody>\n",
              "    <tr>\n",
              "      <th>0</th>\n",
              "      <td>ha당 조사료 400만원…작물별 차등 지원이성훈 sinawi@hanmail.net전...</td>\n",
              "      <td>전라남도가 쌀 과잉문제를 근본적으로 해결하기 위해 올해부터 벼를 심었던 논에 벼 대...</td>\n",
              "    </tr>\n",
              "    <tr>\n",
              "      <th>1</th>\n",
              "      <td>8억 투입, 고소천사벽화·자산마을에 색채 입혀이성훈 sinawi@hanmail.ne...</td>\n",
              "      <td>여수시는 컬러빌리지 사업에 8억원을 투입하여 ‘색채와 빛’ 도시를 완성하여 고소천사...</td>\n",
              "    </tr>\n",
              "    <tr>\n",
              "      <th>2</th>\n",
              "      <td>전남드래곤즈 해맞이 다짐…선수 영입 활발이성훈 sinawi@hanmail.net전남...</td>\n",
              "      <td>전남드래곤즈 임직원과 선수단이 4일 구봉산 정상에 올라 일출을 보며 2018년 구단...</td>\n",
              "    </tr>\n",
              "    <tr>\n",
              "      <th>3</th>\n",
              "      <td>11~24일, 매실·감·참다래 등 지역특화작목이성훈 sinawi@hanmail.ne...</td>\n",
              "      <td>광양시는 농업인들의 경쟁력을 높이고, 소득안정을 위해 매실·감·참다래 등 지역특화작...</td>\n",
              "    </tr>\n",
              "    <tr>\n",
              "      <th>4</th>\n",
              "      <td>홍콩 크루즈선사‘아쿠아리우스’ 4, 6월 여수항 입항이성훈 sinawi@hanmai...</td>\n",
              "      <td>올해 4월과 6월 두 차례에 걸쳐 타이완의 크루즈 관광객 4000여명이 여수에 입항...</td>\n",
              "    </tr>\n",
              "  </tbody>\n",
              "</table>\n",
              "</div>\n",
              "      <button class=\"colab-df-convert\" onclick=\"convertToInteractive('df-a1027743-d71e-4190-b5e5-c9d9f27a8e38')\"\n",
              "              title=\"Convert this dataframe to an interactive table.\"\n",
              "              style=\"display:none;\">\n",
              "        \n",
              "  <svg xmlns=\"http://www.w3.org/2000/svg\" height=\"24px\"viewBox=\"0 0 24 24\"\n",
              "       width=\"24px\">\n",
              "    <path d=\"M0 0h24v24H0V0z\" fill=\"none\"/>\n",
              "    <path d=\"M18.56 5.44l.94 2.06.94-2.06 2.06-.94-2.06-.94-.94-2.06-.94 2.06-2.06.94zm-11 1L8.5 8.5l.94-2.06 2.06-.94-2.06-.94L8.5 2.5l-.94 2.06-2.06.94zm10 10l.94 2.06.94-2.06 2.06-.94-2.06-.94-.94-2.06-.94 2.06-2.06.94z\"/><path d=\"M17.41 7.96l-1.37-1.37c-.4-.4-.92-.59-1.43-.59-.52 0-1.04.2-1.43.59L10.3 9.45l-7.72 7.72c-.78.78-.78 2.05 0 2.83L4 21.41c.39.39.9.59 1.41.59.51 0 1.02-.2 1.41-.59l7.78-7.78 2.81-2.81c.8-.78.8-2.07 0-2.86zM5.41 20L4 18.59l7.72-7.72 1.47 1.35L5.41 20z\"/>\n",
              "  </svg>\n",
              "      </button>\n",
              "      \n",
              "  <style>\n",
              "    .colab-df-container {\n",
              "      display:flex;\n",
              "      flex-wrap:wrap;\n",
              "      gap: 12px;\n",
              "    }\n",
              "\n",
              "    .colab-df-convert {\n",
              "      background-color: #E8F0FE;\n",
              "      border: none;\n",
              "      border-radius: 50%;\n",
              "      cursor: pointer;\n",
              "      display: none;\n",
              "      fill: #1967D2;\n",
              "      height: 32px;\n",
              "      padding: 0 0 0 0;\n",
              "      width: 32px;\n",
              "    }\n",
              "\n",
              "    .colab-df-convert:hover {\n",
              "      background-color: #E2EBFA;\n",
              "      box-shadow: 0px 1px 2px rgba(60, 64, 67, 0.3), 0px 1px 3px 1px rgba(60, 64, 67, 0.15);\n",
              "      fill: #174EA6;\n",
              "    }\n",
              "\n",
              "    [theme=dark] .colab-df-convert {\n",
              "      background-color: #3B4455;\n",
              "      fill: #D2E3FC;\n",
              "    }\n",
              "\n",
              "    [theme=dark] .colab-df-convert:hover {\n",
              "      background-color: #434B5C;\n",
              "      box-shadow: 0px 1px 3px 1px rgba(0, 0, 0, 0.15);\n",
              "      filter: drop-shadow(0px 1px 2px rgba(0, 0, 0, 0.3));\n",
              "      fill: #FFFFFF;\n",
              "    }\n",
              "  </style>\n",
              "\n",
              "      <script>\n",
              "        const buttonEl =\n",
              "          document.querySelector('#df-a1027743-d71e-4190-b5e5-c9d9f27a8e38 button.colab-df-convert');\n",
              "        buttonEl.style.display =\n",
              "          google.colab.kernel.accessAllowed ? 'block' : 'none';\n",
              "\n",
              "        async function convertToInteractive(key) {\n",
              "          const element = document.querySelector('#df-a1027743-d71e-4190-b5e5-c9d9f27a8e38');\n",
              "          const dataTable =\n",
              "            await google.colab.kernel.invokeFunction('convertToInteractive',\n",
              "                                                     [key], {});\n",
              "          if (!dataTable) return;\n",
              "\n",
              "          const docLinkHtml = 'Like what you see? Visit the ' +\n",
              "            '<a target=\"_blank\" href=https://colab.research.google.com/notebooks/data_table.ipynb>data table notebook</a>'\n",
              "            + ' to learn more about interactive tables.';\n",
              "          element.innerHTML = '';\n",
              "          dataTable['output_type'] = 'display_data';\n",
              "          await google.colab.output.renderOutput(dataTable, element);\n",
              "          const docLink = document.createElement('div');\n",
              "          docLink.innerHTML = docLinkHtml;\n",
              "          element.appendChild(docLink);\n",
              "        }\n",
              "      </script>\n",
              "    </div>\n",
              "  </div>\n",
              "  "
            ],
            "text/plain": [
              "                                                news  \\\n",
              "0  ha당 조사료 400만원…작물별 차등 지원이성훈 sinawi@hanmail.net전...   \n",
              "1  8억 투입, 고소천사벽화·자산마을에 색채 입혀이성훈 sinawi@hanmail.ne...   \n",
              "2  전남드래곤즈 해맞이 다짐…선수 영입 활발이성훈 sinawi@hanmail.net전남...   \n",
              "3  11~24일, 매실·감·참다래 등 지역특화작목이성훈 sinawi@hanmail.ne...   \n",
              "4  홍콩 크루즈선사‘아쿠아리우스’ 4, 6월 여수항 입항이성훈 sinawi@hanmai...   \n",
              "\n",
              "                                             summary  \n",
              "0  전라남도가 쌀 과잉문제를 근본적으로 해결하기 위해 올해부터 벼를 심었던 논에 벼 대...  \n",
              "1  여수시는 컬러빌리지 사업에 8억원을 투입하여 ‘색채와 빛’ 도시를 완성하여 고소천사...  \n",
              "2  전남드래곤즈 임직원과 선수단이 4일 구봉산 정상에 올라 일출을 보며 2018년 구단...  \n",
              "3  광양시는 농업인들의 경쟁력을 높이고, 소득안정을 위해 매실·감·참다래 등 지역특화작...  \n",
              "4  올해 4월과 6월 두 차례에 걸쳐 타이완의 크루즈 관광객 4000여명이 여수에 입항...  "
            ]
          },
          "metadata": {},
          "output_type": "display_data"
        },
        {
          "data": {
            "text/html": [
              "\n",
              "  <div id=\"df-951e96f2-1cfb-43dc-985c-8b5a7375abd6\">\n",
              "    <div class=\"colab-df-container\">\n",
              "      <div>\n",
              "<style scoped>\n",
              "    .dataframe tbody tr th:only-of-type {\n",
              "        vertical-align: middle;\n",
              "    }\n",
              "\n",
              "    .dataframe tbody tr th {\n",
              "        vertical-align: top;\n",
              "    }\n",
              "\n",
              "    .dataframe thead th {\n",
              "        text-align: right;\n",
              "    }\n",
              "</style>\n",
              "<table border=\"1\" class=\"dataframe\">\n",
              "  <thead>\n",
              "    <tr style=\"text-align: right;\">\n",
              "      <th></th>\n",
              "      <th>news</th>\n",
              "      <th>summary</th>\n",
              "    </tr>\n",
              "  </thead>\n",
              "  <tbody>\n",
              "    <tr>\n",
              "      <th>0</th>\n",
              "      <td>[ 박재원 기자 ] '대한민국 5G 홍보대사'를 자처한 문재인 대통령은 \"넓고, 체...</td>\n",
              "      <td>8일 서울에서 열린 5G플러스 전략발표에 참석한 문재인 대통령은 5G는 대한민국 혁...</td>\n",
              "    </tr>\n",
              "    <tr>\n",
              "      <th>1</th>\n",
              "      <td>] 당 지도부 퇴진을 놓고 바른미래당 내홍이 격화되고 있다.바른미래당이 8일 연 최...</td>\n",
              "      <td>8일 바른미래당 최고의원 회의에 하태경 의원 등 5명의 최고의원이 지도부 퇴진을 요...</td>\n",
              "    </tr>\n",
              "    <tr>\n",
              "      <th>2</th>\n",
              "      <td>[ 홍윤정 기자 ] 8일 서울 올림픽공원 K아트홀.지난 3일 한국이 세계 최초로 5...</td>\n",
              "      <td>지난 3일 한국이 세계 첫 5세대 이동통신 서비스를 보편화한 것을 축하하는 '코리안...</td>\n",
              "    </tr>\n",
              "    <tr>\n",
              "      <th>3</th>\n",
              "      <td>] 박원순 서울시장(사진)이 8일 고층 재개발·재건축 관련 요구에 작심한 듯 쓴소리...</td>\n",
              "      <td>박원순 서울시장은 8일 서울시청에서 열린 '골목길 재생 시민 정책 대화'에 참석하여...</td>\n",
              "    </tr>\n",
              "    <tr>\n",
              "      <th>4</th>\n",
              "      <td>[ 임근호 기자 ] \"SK(주)와 미국 알파벳(구글 지주회사)의 간결한 지배구조를 ...</td>\n",
              "      <td>주주가치 포커스를 운용하는 KB자산운용이  SK와 알파벳(구글 지주회사)의 모범적 ...</td>\n",
              "    </tr>\n",
              "  </tbody>\n",
              "</table>\n",
              "</div>\n",
              "      <button class=\"colab-df-convert\" onclick=\"convertToInteractive('df-951e96f2-1cfb-43dc-985c-8b5a7375abd6')\"\n",
              "              title=\"Convert this dataframe to an interactive table.\"\n",
              "              style=\"display:none;\">\n",
              "        \n",
              "  <svg xmlns=\"http://www.w3.org/2000/svg\" height=\"24px\"viewBox=\"0 0 24 24\"\n",
              "       width=\"24px\">\n",
              "    <path d=\"M0 0h24v24H0V0z\" fill=\"none\"/>\n",
              "    <path d=\"M18.56 5.44l.94 2.06.94-2.06 2.06-.94-2.06-.94-.94-2.06-.94 2.06-2.06.94zm-11 1L8.5 8.5l.94-2.06 2.06-.94-2.06-.94L8.5 2.5l-.94 2.06-2.06.94zm10 10l.94 2.06.94-2.06 2.06-.94-2.06-.94-.94-2.06-.94 2.06-2.06.94z\"/><path d=\"M17.41 7.96l-1.37-1.37c-.4-.4-.92-.59-1.43-.59-.52 0-1.04.2-1.43.59L10.3 9.45l-7.72 7.72c-.78.78-.78 2.05 0 2.83L4 21.41c.39.39.9.59 1.41.59.51 0 1.02-.2 1.41-.59l7.78-7.78 2.81-2.81c.8-.78.8-2.07 0-2.86zM5.41 20L4 18.59l7.72-7.72 1.47 1.35L5.41 20z\"/>\n",
              "  </svg>\n",
              "      </button>\n",
              "      \n",
              "  <style>\n",
              "    .colab-df-container {\n",
              "      display:flex;\n",
              "      flex-wrap:wrap;\n",
              "      gap: 12px;\n",
              "    }\n",
              "\n",
              "    .colab-df-convert {\n",
              "      background-color: #E8F0FE;\n",
              "      border: none;\n",
              "      border-radius: 50%;\n",
              "      cursor: pointer;\n",
              "      display: none;\n",
              "      fill: #1967D2;\n",
              "      height: 32px;\n",
              "      padding: 0 0 0 0;\n",
              "      width: 32px;\n",
              "    }\n",
              "\n",
              "    .colab-df-convert:hover {\n",
              "      background-color: #E2EBFA;\n",
              "      box-shadow: 0px 1px 2px rgba(60, 64, 67, 0.3), 0px 1px 3px 1px rgba(60, 64, 67, 0.15);\n",
              "      fill: #174EA6;\n",
              "    }\n",
              "\n",
              "    [theme=dark] .colab-df-convert {\n",
              "      background-color: #3B4455;\n",
              "      fill: #D2E3FC;\n",
              "    }\n",
              "\n",
              "    [theme=dark] .colab-df-convert:hover {\n",
              "      background-color: #434B5C;\n",
              "      box-shadow: 0px 1px 3px 1px rgba(0, 0, 0, 0.15);\n",
              "      filter: drop-shadow(0px 1px 2px rgba(0, 0, 0, 0.3));\n",
              "      fill: #FFFFFF;\n",
              "    }\n",
              "  </style>\n",
              "\n",
              "      <script>\n",
              "        const buttonEl =\n",
              "          document.querySelector('#df-951e96f2-1cfb-43dc-985c-8b5a7375abd6 button.colab-df-convert');\n",
              "        buttonEl.style.display =\n",
              "          google.colab.kernel.accessAllowed ? 'block' : 'none';\n",
              "\n",
              "        async function convertToInteractive(key) {\n",
              "          const element = document.querySelector('#df-951e96f2-1cfb-43dc-985c-8b5a7375abd6');\n",
              "          const dataTable =\n",
              "            await google.colab.kernel.invokeFunction('convertToInteractive',\n",
              "                                                     [key], {});\n",
              "          if (!dataTable) return;\n",
              "\n",
              "          const docLinkHtml = 'Like what you see? Visit the ' +\n",
              "            '<a target=\"_blank\" href=https://colab.research.google.com/notebooks/data_table.ipynb>data table notebook</a>'\n",
              "            + ' to learn more about interactive tables.';\n",
              "          element.innerHTML = '';\n",
              "          dataTable['output_type'] = 'display_data';\n",
              "          await google.colab.output.renderOutput(dataTable, element);\n",
              "          const docLink = document.createElement('div');\n",
              "          docLink.innerHTML = docLinkHtml;\n",
              "          element.appendChild(docLink);\n",
              "        }\n",
              "      </script>\n",
              "    </div>\n",
              "  </div>\n",
              "  "
            ],
            "text/plain": [
              "                                                news  \\\n",
              "0  [ 박재원 기자 ] '대한민국 5G 홍보대사'를 자처한 문재인 대통령은 \"넓고, 체...   \n",
              "1  ] 당 지도부 퇴진을 놓고 바른미래당 내홍이 격화되고 있다.바른미래당이 8일 연 최...   \n",
              "2  [ 홍윤정 기자 ] 8일 서울 올림픽공원 K아트홀.지난 3일 한국이 세계 최초로 5...   \n",
              "3  ] 박원순 서울시장(사진)이 8일 고층 재개발·재건축 관련 요구에 작심한 듯 쓴소리...   \n",
              "4  [ 임근호 기자 ] \"SK(주)와 미국 알파벳(구글 지주회사)의 간결한 지배구조를 ...   \n",
              "\n",
              "                                             summary  \n",
              "0  8일 서울에서 열린 5G플러스 전략발표에 참석한 문재인 대통령은 5G는 대한민국 혁...  \n",
              "1  8일 바른미래당 최고의원 회의에 하태경 의원 등 5명의 최고의원이 지도부 퇴진을 요...  \n",
              "2  지난 3일 한국이 세계 첫 5세대 이동통신 서비스를 보편화한 것을 축하하는 '코리안...  \n",
              "3  박원순 서울시장은 8일 서울시청에서 열린 '골목길 재생 시민 정책 대화'에 참석하여...  \n",
              "4  주주가치 포커스를 운용하는 KB자산운용이  SK와 알파벳(구글 지주회사)의 모범적 ...  "
            ]
          },
          "metadata": {},
          "output_type": "display_data"
        }
      ],
      "source": [
        "# Fine-tuning에 사용할 데이터\n",
        "import pandas as pd\n",
        "\n",
        "t = pd.read_csv(f'{DATA_PATH}train2.tsv', sep= '\\t')\n",
        "v = pd.read_csv(f'{DATA_PATH}test2.tsv', sep= '\\t')\n",
        "\n",
        "display(t.head())\n",
        "display(v.head())"
      ]
    },
    {
      "cell_type": "code",
      "execution_count": 27,
      "metadata": {
        "colab": {
          "base_uri": "https://localhost:8080/",
          "height": 395
        },
        "id": "sAgtMgTcqr8t",
        "outputId": "d95f2151-dc8e-4064-9574-af17786b6a28"
      },
      "outputs": [
        {
          "data": {
            "text/html": [
              "\n",
              "  <div id=\"df-b12b862c-f6d8-4cb7-ae19-b7bffebdf943\">\n",
              "    <div class=\"colab-df-container\">\n",
              "      <div>\n",
              "<style scoped>\n",
              "    .dataframe tbody tr th:only-of-type {\n",
              "        vertical-align: middle;\n",
              "    }\n",
              "\n",
              "    .dataframe tbody tr th {\n",
              "        vertical-align: top;\n",
              "    }\n",
              "\n",
              "    .dataframe thead th {\n",
              "        text-align: right;\n",
              "    }\n",
              "</style>\n",
              "<table border=\"1\" class=\"dataframe\">\n",
              "  <thead>\n",
              "    <tr style=\"text-align: right;\">\n",
              "      <th></th>\n",
              "      <th>news</th>\n",
              "      <th>summary</th>\n",
              "    </tr>\n",
              "  </thead>\n",
              "  <tbody>\n",
              "    <tr>\n",
              "      <th>375828</th>\n",
              "      <td>황신섭 구리시가 정부의 상권활성화 공모 사업에 사활을 걸고 있다.지원금 80억원이 ...</td>\n",
              "      <td>구리시가 정부의 지원금 80억원이 걸린 상권활성화 공모 사업에 선정되기 위해 사활을...</td>\n",
              "    </tr>\n",
              "    <tr>\n",
              "      <th>255749</th>\n",
              "      <td>ㆍ신규 공급 물량을 둘러싼 정반대 시각… 어느 쪽 주장이 맞나\"하물며 달팽이도 집이...</td>\n",
              "      <td>세 차례 발표한 정부 대책에도 서울 집값은 고공행진, 이와 같은 현상에 대한 원인 ...</td>\n",
              "    </tr>\n",
              "    <tr>\n",
              "      <th>184664</th>\n",
              "      <td>홍성용 기자◆ 조국 임명 강행 ◆이해찬 더불어민주당 대표(가운데)가 9일 국회에서 ...</td>\n",
              "      <td>민주당은 조국 장관이 임명된 9일 검찰을 향한 공세 수위를 높였는데 이해찬 당대표의...</td>\n",
              "    </tr>\n",
              "    <tr>\n",
              "      <th>91811</th>\n",
              "      <td>이상우 신동근·윤상현, 의료법 개정안고 임세원 교수의 사망사고를 계기로 의료기관 내...</td>\n",
              "      <td>인천지역 여야 의원들은 임세원 교수의 사망사고를 계기로 의료인과 환자의 보호를 위한...</td>\n",
              "    </tr>\n",
              "    <tr>\n",
              "      <th>161485</th>\n",
              "      <td>LH(한국토지주택공사)가 이달 종합심사낙찰제(이하 종심제) 건축공사를 대거 발주한다...</td>\n",
              "      <td>LH(한국토지주택공사)가 이달 종합심사낙찰제(이하 종심제) 건축공사를 대거 발주를 ...</td>\n",
              "    </tr>\n",
              "  </tbody>\n",
              "</table>\n",
              "</div>\n",
              "      <button class=\"colab-df-convert\" onclick=\"convertToInteractive('df-b12b862c-f6d8-4cb7-ae19-b7bffebdf943')\"\n",
              "              title=\"Convert this dataframe to an interactive table.\"\n",
              "              style=\"display:none;\">\n",
              "        \n",
              "  <svg xmlns=\"http://www.w3.org/2000/svg\" height=\"24px\"viewBox=\"0 0 24 24\"\n",
              "       width=\"24px\">\n",
              "    <path d=\"M0 0h24v24H0V0z\" fill=\"none\"/>\n",
              "    <path d=\"M18.56 5.44l.94 2.06.94-2.06 2.06-.94-2.06-.94-.94-2.06-.94 2.06-2.06.94zm-11 1L8.5 8.5l.94-2.06 2.06-.94-2.06-.94L8.5 2.5l-.94 2.06-2.06.94zm10 10l.94 2.06.94-2.06 2.06-.94-2.06-.94-.94-2.06-.94 2.06-2.06.94z\"/><path d=\"M17.41 7.96l-1.37-1.37c-.4-.4-.92-.59-1.43-.59-.52 0-1.04.2-1.43.59L10.3 9.45l-7.72 7.72c-.78.78-.78 2.05 0 2.83L4 21.41c.39.39.9.59 1.41.59.51 0 1.02-.2 1.41-.59l7.78-7.78 2.81-2.81c.8-.78.8-2.07 0-2.86zM5.41 20L4 18.59l7.72-7.72 1.47 1.35L5.41 20z\"/>\n",
              "  </svg>\n",
              "      </button>\n",
              "      \n",
              "  <style>\n",
              "    .colab-df-container {\n",
              "      display:flex;\n",
              "      flex-wrap:wrap;\n",
              "      gap: 12px;\n",
              "    }\n",
              "\n",
              "    .colab-df-convert {\n",
              "      background-color: #E8F0FE;\n",
              "      border: none;\n",
              "      border-radius: 50%;\n",
              "      cursor: pointer;\n",
              "      display: none;\n",
              "      fill: #1967D2;\n",
              "      height: 32px;\n",
              "      padding: 0 0 0 0;\n",
              "      width: 32px;\n",
              "    }\n",
              "\n",
              "    .colab-df-convert:hover {\n",
              "      background-color: #E2EBFA;\n",
              "      box-shadow: 0px 1px 2px rgba(60, 64, 67, 0.3), 0px 1px 3px 1px rgba(60, 64, 67, 0.15);\n",
              "      fill: #174EA6;\n",
              "    }\n",
              "\n",
              "    [theme=dark] .colab-df-convert {\n",
              "      background-color: #3B4455;\n",
              "      fill: #D2E3FC;\n",
              "    }\n",
              "\n",
              "    [theme=dark] .colab-df-convert:hover {\n",
              "      background-color: #434B5C;\n",
              "      box-shadow: 0px 1px 3px 1px rgba(0, 0, 0, 0.15);\n",
              "      filter: drop-shadow(0px 1px 2px rgba(0, 0, 0, 0.3));\n",
              "      fill: #FFFFFF;\n",
              "    }\n",
              "  </style>\n",
              "\n",
              "      <script>\n",
              "        const buttonEl =\n",
              "          document.querySelector('#df-b12b862c-f6d8-4cb7-ae19-b7bffebdf943 button.colab-df-convert');\n",
              "        buttonEl.style.display =\n",
              "          google.colab.kernel.accessAllowed ? 'block' : 'none';\n",
              "\n",
              "        async function convertToInteractive(key) {\n",
              "          const element = document.querySelector('#df-b12b862c-f6d8-4cb7-ae19-b7bffebdf943');\n",
              "          const dataTable =\n",
              "            await google.colab.kernel.invokeFunction('convertToInteractive',\n",
              "                                                     [key], {});\n",
              "          if (!dataTable) return;\n",
              "\n",
              "          const docLinkHtml = 'Like what you see? Visit the ' +\n",
              "            '<a target=\"_blank\" href=https://colab.research.google.com/notebooks/data_table.ipynb>data table notebook</a>'\n",
              "            + ' to learn more about interactive tables.';\n",
              "          element.innerHTML = '';\n",
              "          dataTable['output_type'] = 'display_data';\n",
              "          await google.colab.output.renderOutput(dataTable, element);\n",
              "          const docLink = document.createElement('div');\n",
              "          docLink.innerHTML = docLinkHtml;\n",
              "          element.appendChild(docLink);\n",
              "        }\n",
              "      </script>\n",
              "    </div>\n",
              "  </div>\n",
              "  "
            ],
            "text/plain": [
              "                                                     news  \\\n",
              "375828  황신섭 구리시가 정부의 상권활성화 공모 사업에 사활을 걸고 있다.지원금 80억원이 ...   \n",
              "255749  ㆍ신규 공급 물량을 둘러싼 정반대 시각… 어느 쪽 주장이 맞나\"하물며 달팽이도 집이...   \n",
              "184664  홍성용 기자◆ 조국 임명 강행 ◆이해찬 더불어민주당 대표(가운데)가 9일 국회에서 ...   \n",
              "91811   이상우 신동근·윤상현, 의료법 개정안고 임세원 교수의 사망사고를 계기로 의료기관 내...   \n",
              "161485  LH(한국토지주택공사)가 이달 종합심사낙찰제(이하 종심제) 건축공사를 대거 발주한다...   \n",
              "\n",
              "                                                  summary  \n",
              "375828  구리시가 정부의 지원금 80억원이 걸린 상권활성화 공모 사업에 선정되기 위해 사활을...  \n",
              "255749  세 차례 발표한 정부 대책에도 서울 집값은 고공행진, 이와 같은 현상에 대한 원인 ...  \n",
              "184664  민주당은 조국 장관이 임명된 9일 검찰을 향한 공세 수위를 높였는데 이해찬 당대표의...  \n",
              "91811   인천지역 여야 의원들은 임세원 교수의 사망사고를 계기로 의료인과 환자의 보호를 위한...  \n",
              "161485  LH(한국토지주택공사)가 이달 종합심사낙찰제(이하 종심제) 건축공사를 대거 발주를 ...  "
            ]
          },
          "metadata": {},
          "output_type": "display_data"
        },
        {
          "data": {
            "text/html": [
              "\n",
              "  <div id=\"df-23090545-1cbd-4914-8614-30a050338e0c\">\n",
              "    <div class=\"colab-df-container\">\n",
              "      <div>\n",
              "<style scoped>\n",
              "    .dataframe tbody tr th:only-of-type {\n",
              "        vertical-align: middle;\n",
              "    }\n",
              "\n",
              "    .dataframe tbody tr th {\n",
              "        vertical-align: top;\n",
              "    }\n",
              "\n",
              "    .dataframe thead th {\n",
              "        text-align: right;\n",
              "    }\n",
              "</style>\n",
              "<table border=\"1\" class=\"dataframe\">\n",
              "  <thead>\n",
              "    <tr style=\"text-align: right;\">\n",
              "      <th></th>\n",
              "      <th>news</th>\n",
              "      <th>summary</th>\n",
              "    </tr>\n",
              "  </thead>\n",
              "  <tbody>\n",
              "    <tr>\n",
              "      <th>10015</th>\n",
              "      <td>아침 저녁으로 쌀쌀한 날씨가 이어지면서 편의점 업계가 동절기 모드 돌입에 나선 가운...</td>\n",
              "      <td>세븐일레븐은 동절기를 맞아 1만개 한정 판매할 예정인 경량패딩조끼를 업계 최초로 선...</td>\n",
              "    </tr>\n",
              "    <tr>\n",
              "      <th>45493</th>\n",
              "      <td>(주)알파돔시티는 판교역 지상부에 판교만의 상징성을 부여하고, 활성화된 공간 조성을...</td>\n",
              "      <td>(주)알파돔시티는 오는 2021년까지 판교역 지상부에 판교만의 상징성을 나타내는 쾌...</td>\n",
              "    </tr>\n",
              "    <tr>\n",
              "      <th>27397</th>\n",
              "      <td>미투(#Me Tooㆍ나도 피해자다) 운동이 일상화되면서 미국 브로드웨이에 '인티머시...</td>\n",
              "      <td>미투 운동 일상화로 브로드웨이에 '인티머시 디렉터'라는 직업이 등장했는데 이는 '성...</td>\n",
              "    </tr>\n",
              "    <tr>\n",
              "      <th>5256</th>\n",
              "      <td>부산글로벌테크비즈센터(B-TBC) 개관식에 참석한 오거돈 부산시장과 유영민 과학기술...</td>\n",
              "      <td>과학기술정보통신부와 부산시 및 연구개발특구진흥재단이 31일 부산 미음일반산단 R&amp;D...</td>\n",
              "    </tr>\n",
              "    <tr>\n",
              "      <th>24393</th>\n",
              "      <td>삼성전기가 초슬림 광학 5배줌 카메라 모듈 개발에 성공해 이달부터 대량생산에 들어간...</td>\n",
              "      <td>20일 삼성전기가 초슬림 광학 5배줌 카메라 모듈 개발에 성공했다고 밝혔는데 이번 ...</td>\n",
              "    </tr>\n",
              "  </tbody>\n",
              "</table>\n",
              "</div>\n",
              "      <button class=\"colab-df-convert\" onclick=\"convertToInteractive('df-23090545-1cbd-4914-8614-30a050338e0c')\"\n",
              "              title=\"Convert this dataframe to an interactive table.\"\n",
              "              style=\"display:none;\">\n",
              "        \n",
              "  <svg xmlns=\"http://www.w3.org/2000/svg\" height=\"24px\"viewBox=\"0 0 24 24\"\n",
              "       width=\"24px\">\n",
              "    <path d=\"M0 0h24v24H0V0z\" fill=\"none\"/>\n",
              "    <path d=\"M18.56 5.44l.94 2.06.94-2.06 2.06-.94-2.06-.94-.94-2.06-.94 2.06-2.06.94zm-11 1L8.5 8.5l.94-2.06 2.06-.94-2.06-.94L8.5 2.5l-.94 2.06-2.06.94zm10 10l.94 2.06.94-2.06 2.06-.94-2.06-.94-.94-2.06-.94 2.06-2.06.94z\"/><path d=\"M17.41 7.96l-1.37-1.37c-.4-.4-.92-.59-1.43-.59-.52 0-1.04.2-1.43.59L10.3 9.45l-7.72 7.72c-.78.78-.78 2.05 0 2.83L4 21.41c.39.39.9.59 1.41.59.51 0 1.02-.2 1.41-.59l7.78-7.78 2.81-2.81c.8-.78.8-2.07 0-2.86zM5.41 20L4 18.59l7.72-7.72 1.47 1.35L5.41 20z\"/>\n",
              "  </svg>\n",
              "      </button>\n",
              "      \n",
              "  <style>\n",
              "    .colab-df-container {\n",
              "      display:flex;\n",
              "      flex-wrap:wrap;\n",
              "      gap: 12px;\n",
              "    }\n",
              "\n",
              "    .colab-df-convert {\n",
              "      background-color: #E8F0FE;\n",
              "      border: none;\n",
              "      border-radius: 50%;\n",
              "      cursor: pointer;\n",
              "      display: none;\n",
              "      fill: #1967D2;\n",
              "      height: 32px;\n",
              "      padding: 0 0 0 0;\n",
              "      width: 32px;\n",
              "    }\n",
              "\n",
              "    .colab-df-convert:hover {\n",
              "      background-color: #E2EBFA;\n",
              "      box-shadow: 0px 1px 2px rgba(60, 64, 67, 0.3), 0px 1px 3px 1px rgba(60, 64, 67, 0.15);\n",
              "      fill: #174EA6;\n",
              "    }\n",
              "\n",
              "    [theme=dark] .colab-df-convert {\n",
              "      background-color: #3B4455;\n",
              "      fill: #D2E3FC;\n",
              "    }\n",
              "\n",
              "    [theme=dark] .colab-df-convert:hover {\n",
              "      background-color: #434B5C;\n",
              "      box-shadow: 0px 1px 3px 1px rgba(0, 0, 0, 0.15);\n",
              "      filter: drop-shadow(0px 1px 2px rgba(0, 0, 0, 0.3));\n",
              "      fill: #FFFFFF;\n",
              "    }\n",
              "  </style>\n",
              "\n",
              "      <script>\n",
              "        const buttonEl =\n",
              "          document.querySelector('#df-23090545-1cbd-4914-8614-30a050338e0c button.colab-df-convert');\n",
              "        buttonEl.style.display =\n",
              "          google.colab.kernel.accessAllowed ? 'block' : 'none';\n",
              "\n",
              "        async function convertToInteractive(key) {\n",
              "          const element = document.querySelector('#df-23090545-1cbd-4914-8614-30a050338e0c');\n",
              "          const dataTable =\n",
              "            await google.colab.kernel.invokeFunction('convertToInteractive',\n",
              "                                                     [key], {});\n",
              "          if (!dataTable) return;\n",
              "\n",
              "          const docLinkHtml = 'Like what you see? Visit the ' +\n",
              "            '<a target=\"_blank\" href=https://colab.research.google.com/notebooks/data_table.ipynb>data table notebook</a>'\n",
              "            + ' to learn more about interactive tables.';\n",
              "          element.innerHTML = '';\n",
              "          dataTable['output_type'] = 'display_data';\n",
              "          await google.colab.output.renderOutput(dataTable, element);\n",
              "          const docLink = document.createElement('div');\n",
              "          docLink.innerHTML = docLinkHtml;\n",
              "          element.appendChild(docLink);\n",
              "        }\n",
              "      </script>\n",
              "    </div>\n",
              "  </div>\n",
              "  "
            ],
            "text/plain": [
              "                                                    news  \\\n",
              "10015  아침 저녁으로 쌀쌀한 날씨가 이어지면서 편의점 업계가 동절기 모드 돌입에 나선 가운...   \n",
              "45493  (주)알파돔시티는 판교역 지상부에 판교만의 상징성을 부여하고, 활성화된 공간 조성을...   \n",
              "27397  미투(#Me Tooㆍ나도 피해자다) 운동이 일상화되면서 미국 브로드웨이에 '인티머시...   \n",
              "5256   부산글로벌테크비즈센터(B-TBC) 개관식에 참석한 오거돈 부산시장과 유영민 과학기술...   \n",
              "24393  삼성전기가 초슬림 광학 5배줌 카메라 모듈 개발에 성공해 이달부터 대량생산에 들어간...   \n",
              "\n",
              "                                                 summary  \n",
              "10015  세븐일레븐은 동절기를 맞아 1만개 한정 판매할 예정인 경량패딩조끼를 업계 최초로 선...  \n",
              "45493  (주)알파돔시티는 오는 2021년까지 판교역 지상부에 판교만의 상징성을 나타내는 쾌...  \n",
              "27397  미투 운동 일상화로 브로드웨이에 '인티머시 디렉터'라는 직업이 등장했는데 이는 '성...  \n",
              "5256   과학기술정보통신부와 부산시 및 연구개발특구진흥재단이 31일 부산 미음일반산단 R&D...  \n",
              "24393  20일 삼성전기가 초슬림 광학 5배줌 카메라 모듈 개발에 성공했다고 밝혔는데 이번 ...  "
            ]
          },
          "metadata": {},
          "output_type": "display_data"
        }
      ],
      "source": [
        "# 모든 데이터를 다 사용하기에는 학습이 오래 걸려서\n",
        "# 학습에는 20000, 테스트에는 4000개의 데이터만 사용\n",
        "t_real = t.sample(n=20000, random_state = 42)\n",
        "v_real = v.sample(n=4000, random_state = 42)\n",
        "\n",
        "display(t_real.head())\n",
        "display(v_real.head())"
      ]
    },
    {
      "cell_type": "code",
      "execution_count": 28,
      "metadata": {
        "id": "OONoZQmirXbq"
      },
      "outputs": [],
      "source": [
        "t_real.to_csv(f'{DATA_PATH}train.tsv', header = True, sep = '\\t', index = False)\n",
        "v_real.to_csv(f'{DATA_PATH}test.tsv', header = True, sep = '\\t', index = False)"
      ]
    },
    {
      "cell_type": "code",
      "execution_count": 29,
      "metadata": {
        "colab": {
          "base_uri": "https://localhost:8080/"
        },
        "id": "IoaGkrzjSkGP",
        "outputId": "790ea9c7-2710-4e36-a3db-6e3e1ca51803"
      },
      "outputs": [
        {
          "name": "stdout",
          "output_type": "stream",
          "text": [
            "huggingface/tokenizers: The current process just got forked, after parallelism has already been used. Disabling parallelism to avoid deadlocks...\n",
            "To disable this warning, you can either:\n",
            "\t- Avoid using `tokenizers` before the fork if possible\n",
            "\t- Explicitly set the environment variable TOKENIZERS_PARALLELISM=(true | false)\n",
            "INFO:root:Namespace(accelerator=None, accumulate_grad_batches=None, amp_backend='native', amp_level=None, auto_lr_find=False, auto_scale_batch_size=False, auto_select_gpus=False, batch_size=8, benchmark=False, check_val_every_n_epoch=1, checkpoint_callback=None, checkpoint_path=None, default_root_dir='logs', detect_anomaly=False, deterministic=False, devices=None, enable_checkpointing=True, enable_model_summary=True, enable_progress_bar=True, fast_dev_run=False, flush_logs_every_n_steps=None, gpus=1, gradient_clip_algorithm=None, gradient_clip_val=1.0, ipus=None, limit_predict_batches=1.0, limit_test_batches=1.0, limit_train_batches=1.0, limit_val_batches=1.0, log_every_n_steps=50, log_gpu_memory=None, logger=True, lr=0.0001, max_epochs=5, max_len=512, max_steps=-1, max_time=None, min_epochs=None, min_steps=None, model_path=None, move_metrics_to_cpu=False, multiple_trainloader_mode='max_size_cycle', num_nodes=1, num_processes=1, num_sanity_val_steps=2, num_workers=4, overfit_batches=0.0, plugins=None, precision=32, prepare_data_per_node=None, process_position=0, profiler=None, progress_bar_refresh_rate=None, reload_dataloaders_every_epoch=False, reload_dataloaders_every_n_epochs=0, replace_sampler_ddp=True, resume_from_checkpoint=None, stochastic_weight_avg=False, strategy=None, sync_batchnorm=False, terminate_on_nan=None, test_file='data/test.tsv', tpu_cores=None, track_grad_norm=-1, train_file='data/train.tsv', val_check_interval=1.0, warmup_ratio=0.2, weights_save_path=None, weights_summary='top')\n",
            "GPU available: True, used: True\n",
            "TPU available: False, using: 0 TPU cores\n",
            "IPU available: False, using: 0 IPUs\n",
            "LOCAL_RANK: 0 - CUDA_VISIBLE_DEVICES: [0]\n",
            "/usr/local/lib/python3.7/dist-packages/transformers/optimization.py:309: FutureWarning: This implementation of AdamW is deprecated and will be removed in a future version. Use thePyTorch implementation torch.optim.AdamW instead, or set `no_deprecation_warning=True` to disable this warning\n",
            "  FutureWarning,\n",
            "INFO:root:number of workers 4, data length 2500\n",
            "INFO:root:num_train_steps : 390\n",
            "INFO:root:num_warmup_steps : 78\n",
            "\n",
            "  | Name  | Type                         | Params\n",
            "-------------------------------------------------------\n",
            "0 | model | BartForConditionalGeneration | 123 M \n",
            "-------------------------------------------------------\n",
            "123 M     Trainable params\n",
            "0         Non-trainable params\n",
            "123 M     Total params\n",
            "495.440   Total estimated model params size (MB)\n",
            "/usr/local/lib/python3.7/dist-packages/pytorch_lightning/callbacks/model_checkpoint.py:631: UserWarning: Checkpoint directory /content/drive/MyDrive/AI_camp/CP1/KoBART-summarization/logs exists and is not empty.\n",
            "  rank_zero_warn(f\"Checkpoint directory {dirpath} exists and is not empty.\")\n",
            "Epoch 0:  83% 2500/3000 [27:30<05:30,  1.52it/s, loss=1.62, v_num=6, train_loss=1.250]\n",
            "Validating: 0it [00:00, ?it/s]\u001b[A\n",
            "Validating:   0% 0/500 [00:00<?, ?it/s]\u001b[A\n",
            "Epoch 0:  85% 2540/3000 [27:34<04:59,  1.53it/s, loss=1.62, v_num=6, train_loss=1.250]\n",
            "Validating:   8% 40/500 [00:09<01:46,  4.32it/s]\u001b[A\n",
            "Epoch 0:  86% 2580/3000 [27:43<04:30,  1.55it/s, loss=1.62, v_num=6, train_loss=1.250]\n",
            "Validating:  16% 80/500 [00:18<01:36,  4.33it/s]\u001b[A\n",
            "Epoch 0:  87% 2620/3000 [27:53<04:02,  1.57it/s, loss=1.62, v_num=6, train_loss=1.250]\n",
            "Validating:  24% 120/500 [00:27<01:27,  4.34it/s]\u001b[A\n",
            "Epoch 0:  89% 2660/3000 [28:02<03:35,  1.58it/s, loss=1.62, v_num=6, train_loss=1.250]\n",
            "Validating:  32% 160/500 [00:36<01:18,  4.34it/s]\u001b[A\n",
            "Epoch 0:  90% 2700/3000 [28:11<03:07,  1.60it/s, loss=1.62, v_num=6, train_loss=1.250]\n",
            "Validating:  40% 200/500 [00:46<01:09,  4.34it/s]\u001b[A\n",
            "Epoch 0:  91% 2740/3000 [28:20<02:41,  1.61it/s, loss=1.62, v_num=6, train_loss=1.250]\n",
            "Validating:  48% 240/500 [00:55<00:59,  4.34it/s]\u001b[A\n",
            "Epoch 0:  93% 2780/3000 [28:30<02:15,  1.63it/s, loss=1.62, v_num=6, train_loss=1.250]\n",
            "Validating:  56% 280/500 [01:04<00:50,  4.34it/s]\u001b[A\n",
            "Epoch 0:  94% 2820/3000 [28:39<01:49,  1.64it/s, loss=1.62, v_num=6, train_loss=1.250]\n",
            "Validating:  64% 320/500 [01:13<00:41,  4.34it/s]\u001b[A\n",
            "Epoch 0:  95% 2860/3000 [28:48<01:24,  1.65it/s, loss=1.62, v_num=6, train_loss=1.250]\n",
            "Validating:  72% 360/500 [01:22<00:32,  4.34it/s]\u001b[A\n",
            "Epoch 0:  97% 2900/3000 [28:57<00:59,  1.67it/s, loss=1.62, v_num=6, train_loss=1.250]\n",
            "Validating:  80% 400/500 [01:32<00:23,  4.34it/s]\u001b[A\n",
            "Epoch 0:  98% 2940/3000 [29:06<00:35,  1.68it/s, loss=1.62, v_num=6, train_loss=1.250]\n",
            "Validating:  88% 440/500 [01:41<00:13,  4.34it/s]\u001b[A\n",
            "Epoch 0:  99% 2980/3000 [29:16<00:11,  1.70it/s, loss=1.62, v_num=6, train_loss=1.250]\n",
            "Validating:  96% 480/500 [01:50<00:04,  4.34it/s]\u001b[A\n",
            "Epoch 0: 100% 3000/3000 [29:25<00:00,  1.70it/s, loss=1.62, v_num=6, train_loss=1.250, val_loss=1.630]\n",
            "Epoch 0: 100% 3000/3000 [29:25<00:00,  1.70it/s, loss=1.62, v_num=6, train_loss=1.250, val_loss=1.630]Epoch 0, global step 2499: val_loss reached 1.62840 (best 1.62840), saving model to \"/content/drive/MyDrive/AI_camp/CP1/KoBART-summarization/logs/model_chp/epoch=00-val_loss=1.628.ckpt\" as top 3\n",
            "tcmalloc: large alloc 1075716096 bytes == 0xb8254000 @  0x7ff50fc04615 0x592b76 0x4df71e 0x59394f 0x593bc6 0x7ff4f7e755e4 0x7ff4f7e7d714 0x7ff4f7e52660 0x7ff4e3029c85 0x7ff4e30255be 0x7ff4e302cf65 0x7ff4f7e52bae 0x7ff4f75c96a8 0x593784 0x594731 0x548cc1 0x51566f 0x549e0e 0x593fce 0x5118f8 0x549576 0x593fce 0x548ae9 0x51566f 0x593dd7 0x5118f8 0x549576 0x593fce 0x511e2c 0x593dd7 0x511e2c\n",
            "tcmalloc: large alloc 1344651264 bytes == 0xf9638000 @  0x7ff50fc04615 0x592b76 0x4df71e 0x59394f 0x593bc6 0x7ff4f7e755e4 0x7ff4f7e7d714 0x7ff4f7e52660 0x7ff4e3029c85 0x7ff4e30255be 0x7ff4e302cf65 0x7ff4f7e52bae 0x7ff4f75c96a8 0x593784 0x594731 0x548cc1 0x51566f 0x549e0e 0x593fce 0x5118f8 0x549576 0x593fce 0x548ae9 0x51566f 0x593dd7 0x5118f8 0x549576 0x593fce 0x511e2c 0x593dd7 0x511e2c\n",
            "Epoch 0: 100% 3000/3000 [29:29<00:00,  1.70it/s, loss=1.62, v_num=6, train_loss=1.250, val_loss=1.630]tcmalloc: large alloc 1680818176 bytes == 0x14c172000 @  0x7ff50fc04615 0x592b76 0x4df71e 0x59394f 0x593bc6 0x7ff4f7e755e4 0x7ff4f7e7d714 0x7ff4f7e52660 0x7ff4e3029c85 0x7ff4e30255be 0x7ff4e302cf65 0x7ff4f7e52bae 0x7ff4f75c96a8 0x593784 0x594731 0x548cc1 0x51566f 0x549e0e 0x593fce 0x5118f8 0x549576 0x593fce 0x548ae9 0x51566f 0x593dd7 0x5118f8 0x549576 0x593fce 0x511e2c 0x593dd7 0x511e2c\n",
            "tcmalloc: large alloc 1680818176 bytes == 0x14c172000 @  0x7ff50fc04615 0x592b76 0x4df71e 0x59394f 0x593bc6 0x7ff4f7e755e4 0x7ff4f7e7d714 0x7ff4f7e52660 0x7ff4e3029c85 0x7ff4e30255be 0x7ff4e302cf65 0x7ff4f7e52bae 0x7ff4f75c96a8 0x593784 0x594731 0x548cc1 0x51566f 0x549e0e 0x593fce 0x5118f8 0x549576 0x593fce 0x548ae9 0x51566f 0x593dd7 0x5118f8 0x549576 0x593fce 0x511e2c 0x593dd7 0x511e2c\n",
            "Epoch 1:  83% 2500/3000 [27:23<05:28,  1.52it/s, loss=1.49, v_num=6, train_loss=1.120, val_loss=1.630]\n",
            "Validating: 0it [00:00, ?it/s]\u001b[A\n",
            "Validating:   0% 0/500 [00:00<?, ?it/s]\u001b[A\n",
            "Epoch 1:  85% 2540/3000 [27:28<04:58,  1.54it/s, loss=1.49, v_num=6, train_loss=1.120, val_loss=1.630]\n",
            "Validating:   8% 40/500 [00:09<01:46,  4.34it/s]\u001b[A\n",
            "Epoch 1:  86% 2580/3000 [27:37<04:29,  1.56it/s, loss=1.49, v_num=6, train_loss=1.120, val_loss=1.630]\n",
            "Validating:  16% 80/500 [00:18<01:35,  4.38it/s]\u001b[A\n",
            "Epoch 1:  87% 2620/3000 [27:46<04:01,  1.57it/s, loss=1.49, v_num=6, train_loss=1.120, val_loss=1.630]\n",
            "Validating:  24% 120/500 [00:27<01:26,  4.39it/s]\u001b[A\n",
            "Epoch 1:  89% 2660/3000 [27:55<03:34,  1.59it/s, loss=1.49, v_num=6, train_loss=1.120, val_loss=1.630]\n",
            "Validating:  32% 160/500 [00:36<01:17,  4.39it/s]\u001b[A\n",
            "Epoch 1:  90% 2700/3000 [28:04<03:07,  1.60it/s, loss=1.49, v_num=6, train_loss=1.120, val_loss=1.630]\n",
            "Validating:  40% 200/500 [00:45<01:08,  4.40it/s]\u001b[A\n",
            "Epoch 1:  91% 2740/3000 [28:13<02:40,  1.62it/s, loss=1.49, v_num=6, train_loss=1.120, val_loss=1.630]\n",
            "Validating:  48% 240/500 [00:54<00:59,  4.40it/s]\u001b[A\n",
            "Epoch 1:  93% 2780/3000 [28:22<02:14,  1.63it/s, loss=1.49, v_num=6, train_loss=1.120, val_loss=1.630]\n",
            "Validating:  56% 280/500 [01:03<00:50,  4.40it/s]\u001b[A\n",
            "Epoch 1:  94% 2820/3000 [28:32<01:49,  1.65it/s, loss=1.49, v_num=6, train_loss=1.120, val_loss=1.630]\n",
            "Validating:  64% 320/500 [01:12<00:40,  4.40it/s]\u001b[A\n",
            "Epoch 1:  95% 2860/3000 [28:41<01:24,  1.66it/s, loss=1.49, v_num=6, train_loss=1.120, val_loss=1.630]\n",
            "Validating:  72% 360/500 [01:22<00:31,  4.40it/s]\u001b[A\n",
            "Epoch 1:  97% 2900/3000 [28:50<00:59,  1.68it/s, loss=1.49, v_num=6, train_loss=1.120, val_loss=1.630]\n",
            "Validating:  80% 400/500 [01:31<00:22,  4.40it/s]\u001b[A\n",
            "Epoch 1:  98% 2940/3000 [28:59<00:35,  1.69it/s, loss=1.49, v_num=6, train_loss=1.120, val_loss=1.630]\n",
            "Validating:  88% 440/500 [01:40<00:13,  4.40it/s]\u001b[A\n",
            "Epoch 1:  99% 2980/3000 [29:08<00:11,  1.70it/s, loss=1.49, v_num=6, train_loss=1.120, val_loss=1.630]\n",
            "Validating:  96% 480/500 [01:49<00:04,  4.40it/s]\u001b[A\n",
            "Epoch 1: 100% 3000/3000 [29:17<00:00,  1.71it/s, loss=1.49, v_num=6, train_loss=1.120, val_loss=1.630]\n",
            "Epoch 1: 100% 3000/3000 [29:17<00:00,  1.71it/s, loss=1.49, v_num=6, train_loss=1.120, val_loss=1.630]Epoch 1, global step 4999: val_loss reached 1.62809 (best 1.62809), saving model to \"/content/drive/MyDrive/AI_camp/CP1/KoBART-summarization/logs/model_chp/epoch=01-val_loss=1.628.ckpt\" as top 3\n",
            "Epoch 2:  83% 2500/3000 [27:39<05:31,  1.51it/s, loss=1.17, v_num=6, train_loss=1.310, val_loss=1.630]\n",
            "Validating: 0it [00:00, ?it/s]\u001b[A\n",
            "Validating:   0% 0/500 [00:00<?, ?it/s]\u001b[A\n",
            "Epoch 2:  85% 2540/3000 [27:44<05:01,  1.53it/s, loss=1.17, v_num=6, train_loss=1.310, val_loss=1.630]\n",
            "Validating:   8% 40/500 [00:09<01:49,  4.21it/s]\u001b[A\n",
            "Epoch 2:  86% 2580/3000 [27:53<04:32,  1.54it/s, loss=1.17, v_num=6, train_loss=1.310, val_loss=1.630]\n",
            "Validating:  16% 80/500 [00:18<01:38,  4.25it/s]\u001b[A\n",
            "Epoch 2:  87% 2620/3000 [28:03<04:04,  1.56it/s, loss=1.17, v_num=6, train_loss=1.310, val_loss=1.630]\n",
            "Validating:  24% 120/500 [00:28<01:29,  4.27it/s]\u001b[A\n",
            "Epoch 2:  89% 2660/3000 [28:12<03:36,  1.57it/s, loss=1.17, v_num=6, train_loss=1.310, val_loss=1.630]\n",
            "Validating:  32% 160/500 [00:37<01:19,  4.27it/s]\u001b[A\n",
            "Epoch 2:  90% 2700/3000 [28:21<03:09,  1.59it/s, loss=1.17, v_num=6, train_loss=1.310, val_loss=1.630]\n",
            "Validating:  40% 200/500 [00:46<01:10,  4.27it/s]\u001b[A\n",
            "Epoch 2:  91% 2740/3000 [28:31<02:42,  1.60it/s, loss=1.17, v_num=6, train_loss=1.310, val_loss=1.630]\n",
            "Validating:  48% 240/500 [00:56<01:00,  4.27it/s]\u001b[A\n",
            "Epoch 2:  93% 2780/3000 [28:40<02:16,  1.62it/s, loss=1.17, v_num=6, train_loss=1.310, val_loss=1.630]\n",
            "Validating:  56% 280/500 [01:05<00:51,  4.27it/s]\u001b[A\n",
            "Epoch 2:  94% 2820/3000 [28:49<01:50,  1.63it/s, loss=1.17, v_num=6, train_loss=1.310, val_loss=1.630]\n",
            "Validating:  64% 320/500 [01:15<00:42,  4.27it/s]\u001b[A\n",
            "Epoch 2:  95% 2860/3000 [28:59<01:25,  1.64it/s, loss=1.17, v_num=6, train_loss=1.310, val_loss=1.630]\n",
            "Validating:  72% 360/500 [01:24<00:32,  4.27it/s]\u001b[A\n",
            "Epoch 2:  97% 2900/3000 [29:08<01:00,  1.66it/s, loss=1.17, v_num=6, train_loss=1.310, val_loss=1.630]\n",
            "Validating:  80% 400/500 [01:33<00:23,  4.28it/s]\u001b[A\n",
            "Epoch 2:  98% 2940/3000 [29:17<00:35,  1.67it/s, loss=1.17, v_num=6, train_loss=1.310, val_loss=1.630]\n",
            "Validating:  88% 440/500 [01:43<00:14,  4.28it/s]\u001b[A\n",
            "Epoch 2:  99% 2980/3000 [29:27<00:11,  1.69it/s, loss=1.17, v_num=6, train_loss=1.310, val_loss=1.630]\n",
            "Validating:  96% 480/500 [01:52<00:04,  4.28it/s]\u001b[A\n",
            "Epoch 2: 100% 3000/3000 [29:36<00:00,  1.69it/s, loss=1.17, v_num=6, train_loss=1.310, val_loss=1.670]\n",
            "Epoch 2: 100% 3000/3000 [29:36<00:00,  1.69it/s, loss=1.17, v_num=6, train_loss=1.310, val_loss=1.670]Epoch 2, global step 7499: val_loss reached 1.66577 (best 1.62809), saving model to \"/content/drive/MyDrive/AI_camp/CP1/KoBART-summarization/logs/model_chp/epoch=02-val_loss=1.666.ckpt\" as top 3\n",
            "Epoch 3:  83% 2500/3000 [27:22<05:28,  1.52it/s, loss=1.02, v_num=6, train_loss=1.170, val_loss=1.670]\n",
            "Validating: 0it [00:00, ?it/s]\u001b[A\n",
            "Validating:   0% 0/500 [00:00<?, ?it/s]\u001b[A\n",
            "Epoch 3:  85% 2540/3000 [27:27<04:58,  1.54it/s, loss=1.02, v_num=6, train_loss=1.170, val_loss=1.670]\n",
            "Validating:   8% 40/500 [00:09<01:45,  4.35it/s]\u001b[A\n",
            "Epoch 3:  86% 2580/3000 [27:36<04:29,  1.56it/s, loss=1.02, v_num=6, train_loss=1.170, val_loss=1.670]\n",
            "Validating:  16% 80/500 [00:18<01:35,  4.38it/s]\u001b[A\n",
            "Epoch 3:  87% 2620/3000 [27:45<04:01,  1.57it/s, loss=1.02, v_num=6, train_loss=1.170, val_loss=1.670]\n",
            "Validating:  24% 120/500 [00:27<01:26,  4.39it/s]\u001b[A\n",
            "Epoch 3:  89% 2660/3000 [27:54<03:34,  1.59it/s, loss=1.02, v_num=6, train_loss=1.170, val_loss=1.670]\n",
            "Validating:  32% 160/500 [00:36<01:17,  4.40it/s]\u001b[A\n",
            "Epoch 3:  90% 2700/3000 [28:03<03:07,  1.60it/s, loss=1.02, v_num=6, train_loss=1.170, val_loss=1.670]\n",
            "Validating:  40% 200/500 [00:45<01:08,  4.40it/s]\u001b[A\n",
            "Epoch 3:  91% 2740/3000 [28:12<02:40,  1.62it/s, loss=1.02, v_num=6, train_loss=1.170, val_loss=1.670]\n",
            "Validating:  48% 240/500 [00:54<00:59,  4.40it/s]\u001b[A\n",
            "Epoch 3:  93% 2780/3000 [28:21<02:14,  1.63it/s, loss=1.02, v_num=6, train_loss=1.170, val_loss=1.670]\n",
            "Validating:  56% 280/500 [01:03<00:49,  4.40it/s]\u001b[A\n",
            "Epoch 3:  94% 2820/3000 [28:30<01:49,  1.65it/s, loss=1.02, v_num=6, train_loss=1.170, val_loss=1.670]\n",
            "Validating:  64% 320/500 [01:12<00:40,  4.40it/s]\u001b[A\n",
            "Epoch 3:  95% 2860/3000 [28:39<01:24,  1.66it/s, loss=1.02, v_num=6, train_loss=1.170, val_loss=1.670]\n",
            "Validating:  72% 360/500 [01:21<00:31,  4.40it/s]\u001b[A\n",
            "Epoch 3:  97% 2900/3000 [28:48<00:59,  1.68it/s, loss=1.02, v_num=6, train_loss=1.170, val_loss=1.670]\n",
            "Validating:  80% 400/500 [01:31<00:22,  4.40it/s]\u001b[A\n",
            "Epoch 3:  98% 2940/3000 [28:58<00:35,  1.69it/s, loss=1.02, v_num=6, train_loss=1.170, val_loss=1.670]\n",
            "Validating:  88% 440/500 [01:40<00:13,  4.40it/s]\u001b[A\n",
            "Epoch 3:  99% 2980/3000 [29:07<00:11,  1.71it/s, loss=1.02, v_num=6, train_loss=1.170, val_loss=1.670]\n",
            "Validating:  96% 480/500 [01:49<00:04,  4.40it/s]\u001b[A\n",
            "Epoch 3: 100% 3000/3000 [29:16<00:00,  1.71it/s, loss=1.02, v_num=6, train_loss=1.170, val_loss=1.760]\n",
            "Epoch 3: 100% 3000/3000 [29:16<00:00,  1.71it/s, loss=1.02, v_num=6, train_loss=1.170, val_loss=1.760]Epoch 3, global step 9999: val_loss was not in top 3\n",
            "Epoch 4:  83% 2500/3000 [27:39<05:31,  1.51it/s, loss=0.873, v_num=6, train_loss=0.802, val_loss=1.760]\n",
            "Validating: 0it [00:00, ?it/s]\u001b[A\n",
            "Validating:   0% 0/500 [00:00<?, ?it/s]\u001b[A\n",
            "Epoch 4:  85% 2540/3000 [27:44<05:01,  1.53it/s, loss=0.873, v_num=6, train_loss=0.802, val_loss=1.760]\n",
            "Validating:   8% 40/500 [00:09<01:49,  4.21it/s]\u001b[A\n",
            "Epoch 4:  86% 2580/3000 [27:54<04:32,  1.54it/s, loss=0.873, v_num=6, train_loss=0.802, val_loss=1.760]\n",
            "Validating:  16% 80/500 [00:18<01:38,  4.25it/s]\u001b[A\n",
            "Epoch 4:  87% 2620/3000 [28:03<04:04,  1.56it/s, loss=0.873, v_num=6, train_loss=0.802, val_loss=1.760]\n",
            "Validating:  24% 120/500 [00:28<01:29,  4.26it/s]\u001b[A\n",
            "Epoch 4:  89% 2660/3000 [28:12<03:36,  1.57it/s, loss=0.873, v_num=6, train_loss=0.802, val_loss=1.760]\n",
            "Validating:  32% 160/500 [00:37<01:19,  4.27it/s]\u001b[A\n",
            "Epoch 4:  90% 2700/3000 [28:22<03:09,  1.59it/s, loss=0.873, v_num=6, train_loss=0.802, val_loss=1.760]\n",
            "Validating:  40% 200/500 [00:46<01:10,  4.27it/s]\u001b[A\n",
            "Epoch 4:  91% 2740/3000 [28:31<02:42,  1.60it/s, loss=0.873, v_num=6, train_loss=0.802, val_loss=1.760]\n",
            "Validating:  48% 240/500 [00:56<01:00,  4.27it/s]\u001b[A\n",
            "Epoch 4:  93% 2780/3000 [28:41<02:16,  1.62it/s, loss=0.873, v_num=6, train_loss=0.802, val_loss=1.760]\n",
            "Validating:  56% 280/500 [01:05<00:51,  4.27it/s]\u001b[A\n",
            "Epoch 4:  94% 2820/3000 [28:50<01:50,  1.63it/s, loss=0.873, v_num=6, train_loss=0.802, val_loss=1.760]\n",
            "Validating:  64% 320/500 [01:15<00:42,  4.27it/s]\u001b[A\n",
            "Epoch 4:  95% 2860/3000 [28:59<01:25,  1.64it/s, loss=0.873, v_num=6, train_loss=0.802, val_loss=1.760]\n",
            "Validating:  72% 360/500 [01:24<00:32,  4.27it/s]\u001b[A\n",
            "Epoch 4:  97% 2900/3000 [29:09<01:00,  1.66it/s, loss=0.873, v_num=6, train_loss=0.802, val_loss=1.760]\n",
            "Validating:  80% 400/500 [01:33<00:23,  4.27it/s]\u001b[A\n",
            "Epoch 4:  98% 2940/3000 [29:18<00:35,  1.67it/s, loss=0.873, v_num=6, train_loss=0.802, val_loss=1.760]\n",
            "Validating:  88% 440/500 [01:43<00:14,  4.27it/s]\u001b[A\n",
            "Epoch 4:  99% 2980/3000 [29:27<00:11,  1.69it/s, loss=0.873, v_num=6, train_loss=0.802, val_loss=1.760]\n",
            "Validating:  96% 480/500 [01:52<00:04,  4.27it/s]\u001b[A\n",
            "Epoch 4: 100% 3000/3000 [29:37<00:00,  1.69it/s, loss=0.873, v_num=6, train_loss=0.802, val_loss=1.820]\n",
            "Epoch 4: 100% 3000/3000 [29:37<00:00,  1.69it/s, loss=0.873, v_num=6, train_loss=0.802, val_loss=1.820]Epoch 4, global step 12499: val_loss was not in top 3\n",
            "Epoch 4: 100% 3000/3000 [29:47<00:00,  1.68it/s, loss=0.873, v_num=6, train_loss=0.802, val_loss=1.820]\n",
            "Saving latest checkpoint...\n"
          ]
        }
      ],
      "source": [
        "#Fine-tuning\n",
        "!python train.py --gradient_clip_val 1.0 --max_epochs 5 --default_root_dir logs --gpus 1 --batch_size 8 --num_workers 4 --lr 10e-5 --warmup_ratio 0.2"
      ]
    },
    {
      "cell_type": "code",
      "execution_count": 30,
      "metadata": {
        "colab": {
          "base_uri": "https://localhost:8080/"
        },
        "id": "bzBQAuuRid3b",
        "outputId": "813c3ce0-dbec-49bb-ff60-9c3f125c9e27"
      },
      "outputs": [
        {
          "name": "stdout",
          "output_type": "stream",
          "text": [
            "huggingface/tokenizers: The current process just got forked, after parallelism has already been used. Disabling parallelism to avoid deadlocks...\n",
            "To disable this warning, you can either:\n",
            "\t- Avoid using `tokenizers` before the fork if possible\n",
            "\t- Explicitly set the environment variable TOKENIZERS_PARALLELISM=(true | false)\n",
            "get_model_binary.py:13: YAMLLoadWarning: calling yaml.load() without Loader=... is deprecated, as the default Loader is unsafe. Please read https://msg.pyyaml.org/load for full details.\n",
            "  hparams = yaml.load(f)\n"
          ]
        }
      ],
      "source": [
        "# kobart_summary라는 폴더 안에 Fine tuning 됨 모델을 불러옴\n",
        "!python get_model_binary.py --hparams ./logs/tb_logs/default/version_0/hparams.yaml --model_binary ./logs/model_chp/epoch=01-val_loss=1.628.ckpt"
      ]
    },
    {
      "cell_type": "code",
      "execution_count": 31,
      "metadata": {
        "id": "kIhtxCZPQreL"
      },
      "outputs": [],
      "source": [
        "# Fine tuning한 모델로 성능 테스트 해보기\n",
        "import torch\n",
        "from transformers import PreTrainedTokenizerFast\n",
        "from transformers.models.bart import BartForConditionalGeneration\n",
        "\n",
        "device = torch.device(\"cuda\")\n",
        "model = BartForConditionalGeneration.from_pretrained('./kobart_summary')\n",
        "model.load_state_dict(torch.load('/content/drive/MyDrive/AI_camp/CP1/KoBART-summarization/kobart_summary/pytorch_model.bin'))\n",
        "model.to(device)\n",
        "\n",
        "tokenizer = PreTrainedTokenizerFast.from_pretrained('gogamza/kobart-base-v1')"
      ]
    },
    {
      "cell_type": "code",
      "execution_count": 36,
      "metadata": {
        "colab": {
          "base_uri": "https://localhost:8080/"
        },
        "id": "BgKl1Tr5Qrg2",
        "outputId": "389a71e5-df5f-4465-ae92-acad2eefbc87"
      },
      "outputs": [
        {
          "name": "stdout",
          "output_type": "stream",
          "text": [
            "CPU times: user 368 ms, sys: 256 µs, total: 368 ms\n",
            "Wall time: 366 ms\n"
          ]
        }
      ],
      "source": [
        "%%time\n",
        "text = \"\"\"\n",
        "SK텔레콤은 우리말 인공지능(AI) 언어모델의 개발 역량 향상과 국어 정보화 저변 확대를 위해 ‘인공지능 언어 능력 평가 대회’를 개최한다고 1일 밝혔다. \n",
        "이번 대회는 SK텔레콤·문화체육관광부·국립국어원 함께 주최한다. 대회는 9월 1일 오후 SK텔레콤의 기본 AI 언어모델과 국립국어원의 평가 데이터 세트 공개와 함께 시작되며, \n",
        "참가자들은 오는 9월 15일부터 11월 1일까지 결과물을 수시로 업데이트하여 제출할 수 있다. 이번 대회는 개인 또는 팀으로 누구나 참가할 수 있다. 참가팀 중 대상(문화체육관광부 장관상), \n",
        "금상·은상·동상, 특별상을 선정할 계획이며, 수상자 전원에게는 매년 SK텔레콤이 개최하는 AI 펠로우십(Fellowship)의 서류 심사 면제 특권도 제공할 계획이다. 참가자들은 제공된 언어 모델 등을 기반으로 \n",
        "각각의 AI 언어모델 프로그램을 개발하여 우리말을 이해하고 분석하는 능력을 평가받는다. 제출된 언어모델을 평가하는 과제는 4가지다. ▲문장의 문법 오류 판단하기(문장 적법성 판단) ▲맥락별 단어 의미 구별하기(동형이의어 구별) \n",
        "▲문장 읽고 원인 추론하기(인과 관계 추론) ▲제시문 읽고 질문에 예/아니오 답하기(판정 의문문) 등이다. 이번 평가는 지금까지 한국어 인공지능 모델 평가를 위해 공개된 데이터세트들보다 난이도가 다소 높은 내용으로 구성됐다. \n",
        "SK텔레콤에서 제공하는 언어모델은 매개 변수가 12억개인 모델이다. 지난해 공개한 KoGPT2 모델보다 약 8배 크다. 이는 SK텔레콤이 국립국어원과 진행하고 있는 한국어 범용언어모델(GLM) 연구 과제의 초기 산출물로, \n",
        "기존에 SK텔레콤이 개발해 발표한 KoBERT, KoGPT2, KoBART 모델에 이어 한국어 AI 모델을 개발·활용하고자 하는 이들에게 도움이 될 것으로 기대된다. 에릭 데이비스 SK텔레콤 Language Superintelligence Labs장은 \n",
        "“SK텔레콤과 국립국어원이 협업하여 준비한 이번 경진대회가 언어와 AI에 대한 역량을 맘껏 펼치는 장이 되길 기대한다”며 “나아가 이러한 건전한 경쟁이 범용언어모델을 비롯한 한국어 언어모델의 발전과 국어 정보화 확산에 기여하길 바란다”고 말했다.\n",
        "\"\"\"\n",
        "\n",
        "l1 = [text] * 1\n",
        "output_list = []\n",
        "for i in l1:\n",
        "    input_ids = tokenizer.encode(i)\n",
        "    input_ids = torch.tensor(input_ids, device = torch.device('cuda'))\n",
        "    input_ids = input_ids.unsqueeze(0)\n",
        "    output = model.generate(input_ids, eos_token_id=1, max_length=64, num_beams=2)\n",
        "    output = tokenizer.decode(output[0], skip_special_tokens=True)\n",
        "    output_list.append(output)"
      ]
    },
    {
      "cell_type": "code",
      "execution_count": 37,
      "metadata": {
        "colab": {
          "base_uri": "https://localhost:8080/",
          "height": 54
        },
        "id": "lm4lYFtBK4eB",
        "outputId": "341c78fc-442b-46dc-aeb5-2a48d7db1956"
      },
      "outputs": [
        {
          "data": {
            "application/vnd.google.colaboratory.intrinsic+json": {
              "type": "string"
            },
            "text/plain": [
              "'SK텔레콤은 우리말 인공지능(AI) 언어모델의 개발 역량 향상과 국어 정보화 저변 확대를 위해 ‘인공지능 언어 능력 평가 대회’를 개최한다고 밝혔으며, 참가자들은 제공된 AI 언어 모델 등을 기반으로 각각의 AI 언어모델 프로그램을 개발하여 우리말을 이해하고 분석하는 능력을 평가받는다.'"
            ]
          },
          "execution_count": 37,
          "metadata": {},
          "output_type": "execute_result"
        }
      ],
      "source": [
        "output_list[0]"
      ]
    },
    {
      "cell_type": "code",
      "execution_count": 40,
      "metadata": {
        "id": "kKwnTVezn1VJ"
      },
      "outputs": [],
      "source": [
        "label = [\"\"\"\n",
        "SK텔레콤은 문화체육관광부·국립국어원과 함께 우리말 인공지능(AI) 언어모델의 개발 역량 향상과 국어 정보화 저변 확대를 위해 ‘인공지능 언어 능력 평가 대회’를 개최한다고 밝히며 참가자들은 \n",
        "제공된 언어 모델 등을 기반으로 각각의 AI 언어모델 프로그램을 개발하여 우리말을 이해하고 분석하는 능력을 평가받는다.\n",
        "\"\"\"]"
      ]
    },
    {
      "cell_type": "code",
      "execution_count": 38,
      "metadata": {
        "colab": {
          "base_uri": "https://localhost:8080/"
        },
        "id": "Hamc2yOIWRf0",
        "outputId": "77cd6382-1343-4288-ddb6-c94fd76a493d"
      },
      "outputs": [
        {
          "name": "stdout",
          "output_type": "stream",
          "text": [
            "huggingface/tokenizers: The current process just got forked, after parallelism has already been used. Disabling parallelism to avoid deadlocks...\n",
            "To disable this warning, you can either:\n",
            "\t- Avoid using `tokenizers` before the fork if possible\n",
            "\t- Explicitly set the environment variable TOKENIZERS_PARALLELISM=(true | false)\n",
            "Looking in indexes: https://pypi.org/simple, https://us-python.pkg.dev/colab-wheels/public/simple/\n",
            "Collecting rouge\n",
            "  Downloading rouge-1.0.1-py3-none-any.whl (13 kB)\n",
            "Requirement already satisfied: six in /usr/local/lib/python3.7/dist-packages (from rouge) (1.15.0)\n",
            "Installing collected packages: rouge\n",
            "Successfully installed rouge-1.0.1\n"
          ]
        }
      ],
      "source": [
        "!pip install rouge"
      ]
    },
    {
      "cell_type": "code",
      "execution_count": 41,
      "metadata": {
        "colab": {
          "base_uri": "https://localhost:8080/"
        },
        "id": "oLOke6V-Qrjl",
        "outputId": "b6f658b3-5355-4dbf-c305-6e60572c6005"
      },
      "outputs": [
        {
          "data": {
            "text/plain": [
              "{'rouge-1': {'r': 0.8918918918918919,\n",
              "  'p': 0.9705882352941176,\n",
              "  'f': 0.9295774597976593},\n",
              " 'rouge-2': {'r': 0.8108108108108109,\n",
              "  'p': 0.8571428571428571,\n",
              "  'f': 0.8333333283371915},\n",
              " 'rouge-l': {'r': 0.8918918918918919,\n",
              "  'p': 0.9705882352941176,\n",
              "  'f': 0.9295774597976593}}"
            ]
          },
          "execution_count": 41,
          "metadata": {},
          "output_type": "execute_result"
        }
      ],
      "source": [
        "from rouge import Rouge\n",
        "\n",
        "rouge = Rouge()\n",
        "rouge.get_scores(output_list,label , avg=True)"
      ]
    },
    {
      "cell_type": "code",
      "execution_count": null,
      "metadata": {
        "id": "E-4etxgIQrma"
      },
      "outputs": [],
      "source": []
    },
    {
      "cell_type": "code",
      "execution_count": null,
      "metadata": {
        "id": "pUaBINHaPGpO"
      },
      "outputs": [],
      "source": []
    },
    {
      "cell_type": "code",
      "execution_count": null,
      "metadata": {
        "id": "MCXM6J6NO8M6"
      },
      "outputs": [],
      "source": []
    },
    {
      "cell_type": "code",
      "execution_count": null,
      "metadata": {
        "id": "cjHXOwmtO8QQ"
      },
      "outputs": [],
      "source": []
    },
    {
      "cell_type": "code",
      "execution_count": null,
      "metadata": {
        "id": "kgMzwPgAO8Tu"
      },
      "outputs": [],
      "source": []
    }
  ],
  "metadata": {
    "accelerator": "GPU",
    "colab": {
      "machine_shape": "hm",
      "name": "kobart_test3.ipynb",
      "provenance": []
    },
    "gpuClass": "standard",
    "kernelspec": {
      "display_name": "Python 3.8.5 32-bit",
      "language": "python",
      "name": "python3"
    },
    "language_info": {
      "name": "python",
      "version": "3.8.5"
    },
    "vscode": {
      "interpreter": {
        "hash": "8c9a6d0b832d4cfad6488ccdb1205552965f621d05815b5a62faeee9a758575a"
      }
    }
  },
  "nbformat": 4,
  "nbformat_minor": 0
}
